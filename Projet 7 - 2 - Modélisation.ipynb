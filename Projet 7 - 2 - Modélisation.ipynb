{
 "cells": [
  {
   "cell_type": "code",
   "execution_count": 1,
   "id": "dc37c03c",
   "metadata": {},
   "outputs": [],
   "source": [
    "import pandas as pd\n",
    "import numpy as np\n",
    "import matplotlib.pyplot as plt\n",
    "import seaborn as sns\n",
    "import warnings\n",
    "warnings.simplefilter(action='ignore', category=FutureWarning)\n",
    "import time\n",
    "\n",
    "from pylab import rcParams\n",
    "\n",
    "from sklearn.metrics import roc_auc_score, roc_curve\n",
    "from sklearn.model_selection import train_test_split\n",
    "from sklearn.utils import class_weight\n",
    "\n",
    "# Models\n",
    "from sklearn import dummy\n",
    "from sklearn.linear_model import LogisticRegression\n",
    "from sklearn.ensemble import RandomForestClassifier\n",
    "from xgboost import XGBClassifier\n",
    "from lightgbm import LGBMClassifier\n",
    "\n",
    "# Over-sampling \n",
    "from collections import Counter\n",
    "from sklearn.datasets import make_classification\n",
    "from imblearn.over_sampling import SMOTE\n",
    "\n",
    "# Under-sampling\n",
    "from imblearn.under_sampling import RandomUnderSampler\n",
    "\n",
    "#Pipeline\n",
    "from imblearn.pipeline import Pipeline "
   ]
  },
  {
   "cell_type": "code",
   "execution_count": 2,
   "id": "f26d6920",
   "metadata": {},
   "outputs": [],
   "source": [
    "%matplotlib inline\n",
    "rcParams['figure.figsize'] = 6, 4\n",
    "warnings.filterwarnings('ignore')\n",
    "sns.set(style= 'whitegrid')"
   ]
  },
  {
   "cell_type": "markdown",
   "id": "64c2b907",
   "metadata": {},
   "source": [
    "# C) Elaboration et choix du meilleur modèle \n",
    "    - equilibrage des classes\n",
    "    - comparaison des modèles "
   ]
  },
  {
   "cell_type": "code",
   "execution_count": 3,
   "id": "06603031",
   "metadata": {},
   "outputs": [],
   "source": [
    "# récupération du fichier après Analyse Exploratoire et Feature Engineering\n",
    "\n",
    "df = pd.read_csv('df_final.csv', sep=',')"
   ]
  },
  {
   "cell_type": "code",
   "execution_count": 4,
   "id": "2be84074",
   "metadata": {},
   "outputs": [],
   "source": [
    "# fonctions communes\n",
    "\n",
    "def generate_crosstab():\n",
    "    return(pd.crosstab(pd.Series(Y_test_pred, name = 'Predicted'), pd.Series(Y_test['TARGET'], name = 'Actual')))\n",
    "\n",
    "def generate_auc_roc_curve(model, X_test):\n",
    "    y_pred_proba = model.predict_proba(X_test)[:, 1]\n",
    "    fpr, tpr, thresholds = roc_curve(Y_test, y_pred_proba)\n",
    "    auc = roc_auc_score(Y_test, y_pred_proba)\n",
    "    plt.plot(fpr, tpr, label = 'AUC ROC Curve with Area under the curve = ' + str(auc))\n",
    "    plt.legend(loc=4)\n",
    "    plt.show()\n",
    "    pass"
   ]
  },
  {
   "cell_type": "code",
   "execution_count": 5,
   "id": "3726fce2",
   "metadata": {},
   "outputs": [
    {
     "data": {
      "text/plain": [
       "0.0    197835\n",
       "1.0     17419\n",
       "Name: TARGET, dtype: int64"
      ]
     },
     "execution_count": 5,
     "metadata": {},
     "output_type": "execute_result"
    }
   ],
   "source": [
    "# Préparation du jeu d'entraînement et du jeu de test\n",
    "\n",
    "X = df.loc[:, df.columns != 'TARGET']\n",
    "Y = df.loc[:, df.columns == 'TARGET']\n",
    "\n",
    "X_train, X_test, Y_train, Y_test = train_test_split(X, Y, test_size= 0.3, random_state=50)\n",
    "\n",
    "Y_train['TARGET'].value_counts()"
   ]
  },
  {
   "cell_type": "markdown",
   "id": "5673f70c",
   "metadata": {},
   "source": [
    "#### Equilibrage des classes\n",
    "\n",
    "On a observé durant l'Analyse Exploratoire un déséquilibre clair du nombre de clients dont la demande de prêt a été acceptée (1 - 8.07%) et ceux à qui elle a été refusée (0 - 91.93%). \n",
    "\n",
    "Afin de travailler sur un jeu de données équilibrés, nous allons utiliser plusieurs techniques de rééquilibrage des classes:\n",
    "\n",
    "    - Données brutes \n",
    "    - Undersampling the biggest class => RandomUnderSampler()\n",
    "                Inconvénient => perte possible d'importantes informations concernant la classe majoritaire\n",
    "    - Oversampling the smallest class => SMOTE - sklearn\n",
    "    - Pondération des classes => Class_weight = 'balanced'\n",
    "                Permet de donner automatiquement plus de poids à la classe minoritaire"
   ]
  },
  {
   "cell_type": "code",
   "execution_count": 6,
   "id": "b170d7ed",
   "metadata": {},
   "outputs": [
    {
     "data": {
      "text/plain": [
       "{1.0: 6.1934944612286005, 0.0: 0.5439097643288218}"
      ]
     },
     "execution_count": 6,
     "metadata": {},
     "output_type": "execute_result"
    }
   ],
   "source": [
    "# Pondération de chaque classe pour: Class_weight = 'balanced'\n",
    "\n",
    "unique_classes = list(df['TARGET'].unique())\n",
    "out_dict = {}\n",
    "for classes in unique_classes: \n",
    "    out_dict[classes] = df.shape[0]/((df.loc[df['TARGET'] == classes].shape[0])*len(unique_classes))\n",
    "out_dict    "
   ]
  },
  {
   "cell_type": "code",
   "execution_count": 7,
   "id": "e7db9115",
   "metadata": {},
   "outputs": [
    {
     "data": {
      "text/plain": [
       "array([0.54402406, 6.1787129 ])"
      ]
     },
     "execution_count": 7,
     "metadata": {},
     "output_type": "execute_result"
    }
   ],
   "source": [
    "cw = class_weight.compute_class_weight(class_weight ='balanced', classes= np.unique(Y_train), y=Y_train['TARGET'])\n",
    "cw"
   ]
  },
  {
   "cell_type": "markdown",
   "id": "52521e29",
   "metadata": {},
   "source": [
    "## 1° Test des différents modèles"
   ]
  },
  {
   "cell_type": "code",
   "execution_count": 8,
   "id": "2222e2b1",
   "metadata": {},
   "outputs": [],
   "source": [
    "# création d'un tableau pour renseigner les différents scores\n",
    "index = []\n",
    "scores = {'Balance_method': [], 'AUC': [], 'AUC_test': [], 'Time': []}"
   ]
  },
  {
   "cell_type": "code",
   "execution_count": 9,
   "id": "c4884470",
   "metadata": {},
   "outputs": [],
   "source": [
    "from sklearn.model_selection import GridSearchCV as GS"
   ]
  },
  {
   "cell_type": "markdown",
   "id": "2554aa57",
   "metadata": {},
   "source": [
    "### a)   Dummy Classifier- Baseline "
   ]
  },
  {
   "cell_type": "markdown",
   "id": "53b34306",
   "metadata": {},
   "source": [
    "####  Données Brutes"
   ]
  },
  {
   "cell_type": "code",
   "execution_count": 10,
   "id": "d8e980ce",
   "metadata": {},
   "outputs": [
    {
     "name": "stdout",
     "output_type": "stream",
     "text": [
      "meilleur score :  0.5000756086550517\n",
      "meilleur paramètre :  {'strategy': 'stratified'}\n"
     ]
    }
   ],
   "source": [
    "param_grid = {'strategy': ['most_frequent', 'constant', 'prior', 'stratified', 'uniform', 'constant']}\n",
    "grid = GS(dummy.DummyClassifier(), param_grid, scoring='roc_auc', cv = 5)\n",
    "\n",
    "# Entraînement\n",
    "grid.fit(X_train, Y_train)\n",
    "print('meilleur score : ' , grid.best_score_)\n",
    "print('meilleur paramètre : ' , grid.best_params_)"
   ]
  },
  {
   "cell_type": "code",
   "execution_count": 11,
   "id": "14f3af20",
   "metadata": {},
   "outputs": [
    {
     "data": {
      "text/html": [
       "<div>\n",
       "<style scoped>\n",
       "    .dataframe tbody tr th:only-of-type {\n",
       "        vertical-align: middle;\n",
       "    }\n",
       "\n",
       "    .dataframe tbody tr th {\n",
       "        vertical-align: top;\n",
       "    }\n",
       "\n",
       "    .dataframe thead th {\n",
       "        text-align: right;\n",
       "    }\n",
       "</style>\n",
       "<table border=\"1\" class=\"dataframe\">\n",
       "  <thead>\n",
       "    <tr style=\"text-align: right;\">\n",
       "      <th>Actual</th>\n",
       "      <th>0.0</th>\n",
       "      <th>1.0</th>\n",
       "    </tr>\n",
       "    <tr>\n",
       "      <th>Predicted</th>\n",
       "      <th></th>\n",
       "      <th></th>\n",
       "    </tr>\n",
       "  </thead>\n",
       "  <tbody>\n",
       "    <tr>\n",
       "      <th>0.0</th>\n",
       "      <td>23534</td>\n",
       "      <td>2051</td>\n",
       "    </tr>\n",
       "    <tr>\n",
       "      <th>1.0</th>\n",
       "      <td>2143</td>\n",
       "      <td>165</td>\n",
       "    </tr>\n",
       "  </tbody>\n",
       "</table>\n",
       "</div>"
      ],
      "text/plain": [
       "Actual       0.0   1.0\n",
       "Predicted             \n",
       "0.0        23534  2051\n",
       "1.0         2143   165"
      ]
     },
     "execution_count": 11,
     "metadata": {},
     "output_type": "execute_result"
    }
   ],
   "source": [
    "time1 = time.time()\n",
    "\n",
    "model = grid.best_estimator_\n",
    "model.fit(X_train, Y_train)\n",
    "\n",
    "# Prédiction sur le jeu de test\n",
    "Y_test_pred = model.predict(X_test)\n",
    "\n",
    "time2 = np.round(time.time() - time1,0)\n",
    "\n",
    "# Calcul AUC\n",
    "y_pred_proba = model.predict_proba(X_test)[:, 1]\n",
    "auc = roc_auc_score(Y_test, y_pred_proba)\n",
    "\n",
    "generate_crosstab()"
   ]
  },
  {
   "cell_type": "code",
   "execution_count": 12,
   "id": "783ced9c",
   "metadata": {},
   "outputs": [
    {
     "data": {
      "image/png": "[encoded data removed]",
      "text/plain": [
       "<Figure size 600x400 with 1 Axes>"
      ]
     },
     "metadata": {},
     "output_type": "display_data"
    }
   ],
   "source": [
    "generate_auc_roc_curve(model, X_test)"
   ]
  },
  {
   "cell_type": "code",
   "execution_count": 13,
   "id": "429824a4",
   "metadata": {},
   "outputs": [
    {
     "data": {
      "text/html": [
       "<div>\n",
       "<style scoped>\n",
       "    .dataframe tbody tr th:only-of-type {\n",
       "        vertical-align: middle;\n",
       "    }\n",
       "\n",
       "    .dataframe tbody tr th {\n",
       "        vertical-align: top;\n",
       "    }\n",
       "\n",
       "    .dataframe thead th {\n",
       "        text-align: right;\n",
       "    }\n",
       "</style>\n",
       "<table border=\"1\" class=\"dataframe\">\n",
       "  <thead>\n",
       "    <tr style=\"text-align: right;\">\n",
       "      <th></th>\n",
       "      <th>Balance_method</th>\n",
       "      <th>AUC</th>\n",
       "      <th>AUC_test</th>\n",
       "      <th>Time</th>\n",
       "    </tr>\n",
       "  </thead>\n",
       "  <tbody>\n",
       "    <tr>\n",
       "      <th>DummyClassifier</th>\n",
       "      <td>None</td>\n",
       "      <td>0.500076</td>\n",
       "      <td>0.500229</td>\n",
       "      <td>0.0</td>\n",
       "    </tr>\n",
       "  </tbody>\n",
       "</table>\n",
       "</div>"
      ],
      "text/plain": [
       "                Balance_method       AUC  AUC_test  Time\n",
       "DummyClassifier           None  0.500076  0.500229   0.0"
      ]
     },
     "execution_count": 13,
     "metadata": {},
     "output_type": "execute_result"
    }
   ],
   "source": [
    "index += ['DummyClassifier']\n",
    "scores['Balance_method'].append('None')\n",
    "\n",
    "scores['AUC'].append(grid.best_score_)\n",
    "scores['AUC_test'].append(auc.mean()) \n",
    "scores['Time'].append(time2)  \n",
    "\n",
    "df_scores = pd.DataFrame(scores, index=index)\n",
    "df_scores"
   ]
  },
  {
   "cell_type": "markdown",
   "id": "587d6eb5",
   "metadata": {},
   "source": [
    "### b)  Logistic Regression"
   ]
  },
  {
   "cell_type": "markdown",
   "id": "6d7ddbd3",
   "metadata": {},
   "source": [
    "#### 1° LR - Données Brutes"
   ]
  },
  {
   "cell_type": "code",
   "execution_count": 14,
   "id": "c70b6b52",
   "metadata": {},
   "outputs": [
    {
     "name": "stdout",
     "output_type": "stream",
     "text": [
      "meilleur score :  0.5506221407992109\n",
      "meilleur paramètre :  {'penalty': 'none'}\n"
     ]
    }
   ],
   "source": [
    "param_grid = {'penalty' :['elasticnet', 'none']}   \n",
    "grid = GS(LogisticRegression(), param_grid, scoring='roc_auc', cv = 5)\n",
    "\n",
    "# Entraînement\n",
    "grid.fit(X_train, Y_train)\n",
    "print('meilleur score : ' , grid.best_score_)\n",
    "print('meilleur paramètre : ' , grid.best_params_)"
   ]
  },
  {
   "cell_type": "code",
   "execution_count": 15,
   "id": "7b9f0b32",
   "metadata": {},
   "outputs": [
    {
     "data": {
      "text/html": [
       "<div>\n",
       "<style scoped>\n",
       "    .dataframe tbody tr th:only-of-type {\n",
       "        vertical-align: middle;\n",
       "    }\n",
       "\n",
       "    .dataframe tbody tr th {\n",
       "        vertical-align: top;\n",
       "    }\n",
       "\n",
       "    .dataframe thead th {\n",
       "        text-align: right;\n",
       "    }\n",
       "</style>\n",
       "<table border=\"1\" class=\"dataframe\">\n",
       "  <thead>\n",
       "    <tr style=\"text-align: right;\">\n",
       "      <th>Actual</th>\n",
       "      <th>0.0</th>\n",
       "      <th>1.0</th>\n",
       "    </tr>\n",
       "    <tr>\n",
       "      <th>Predicted</th>\n",
       "      <th></th>\n",
       "      <th></th>\n",
       "    </tr>\n",
       "  </thead>\n",
       "  <tbody>\n",
       "    <tr>\n",
       "      <th>0.0</th>\n",
       "      <td>25676</td>\n",
       "      <td>2216</td>\n",
       "    </tr>\n",
       "    <tr>\n",
       "      <th>1.0</th>\n",
       "      <td>1</td>\n",
       "      <td>0</td>\n",
       "    </tr>\n",
       "  </tbody>\n",
       "</table>\n",
       "</div>"
      ],
      "text/plain": [
       "Actual       0.0   1.0\n",
       "Predicted             \n",
       "0.0        25676  2216\n",
       "1.0            1     0"
      ]
     },
     "execution_count": 15,
     "metadata": {},
     "output_type": "execute_result"
    }
   ],
   "source": [
    "time1 = time.time()\n",
    "\n",
    "model = grid.best_estimator_\n",
    "model.fit(X_train, Y_train)\n",
    "\n",
    "# Prédiction sur le jeu de test\n",
    "Y_test_pred = model.predict(X_test)\n",
    "\n",
    "time2 = np.round(time.time() - time1,0)\n",
    "\n",
    "# Calcul AUC\n",
    "y_pred_proba = model.predict_proba(X_test)[:, 1]\n",
    "auc = roc_auc_score(Y_test, y_pred_proba)\n",
    "\n",
    "generate_crosstab()"
   ]
  },
  {
   "cell_type": "code",
   "execution_count": 16,
   "id": "079307f4",
   "metadata": {
    "scrolled": false
   },
   "outputs": [
    {
     "data": {
      "image/png": "[encoded data removed]",
      "text/plain": [
       "<Figure size 600x400 with 1 Axes>"
      ]
     },
     "metadata": {},
     "output_type": "display_data"
    }
   ],
   "source": [
    "generate_auc_roc_curve(model, X_test)"
   ]
  },
  {
   "cell_type": "code",
   "execution_count": 17,
   "id": "b61a7c0b",
   "metadata": {
    "scrolled": true
   },
   "outputs": [
    {
     "data": {
      "text/html": [
       "<div>\n",
       "<style scoped>\n",
       "    .dataframe tbody tr th:only-of-type {\n",
       "        vertical-align: middle;\n",
       "    }\n",
       "\n",
       "    .dataframe tbody tr th {\n",
       "        vertical-align: top;\n",
       "    }\n",
       "\n",
       "    .dataframe thead th {\n",
       "        text-align: right;\n",
       "    }\n",
       "</style>\n",
       "<table border=\"1\" class=\"dataframe\">\n",
       "  <thead>\n",
       "    <tr style=\"text-align: right;\">\n",
       "      <th></th>\n",
       "      <th>Balance_method</th>\n",
       "      <th>AUC</th>\n",
       "      <th>AUC_test</th>\n",
       "      <th>Time</th>\n",
       "    </tr>\n",
       "  </thead>\n",
       "  <tbody>\n",
       "    <tr>\n",
       "      <th>DummyClassifier</th>\n",
       "      <td>None</td>\n",
       "      <td>0.500076</td>\n",
       "      <td>0.500229</td>\n",
       "      <td>0.0</td>\n",
       "    </tr>\n",
       "    <tr>\n",
       "      <th>LogisticRegression</th>\n",
       "      <td>None</td>\n",
       "      <td>0.550622</td>\n",
       "      <td>0.550346</td>\n",
       "      <td>22.0</td>\n",
       "    </tr>\n",
       "  </tbody>\n",
       "</table>\n",
       "</div>"
      ],
      "text/plain": [
       "                   Balance_method       AUC  AUC_test  Time\n",
       "DummyClassifier              None  0.500076  0.500229   0.0\n",
       "LogisticRegression           None  0.550622  0.550346  22.0"
      ]
     },
     "execution_count": 17,
     "metadata": {},
     "output_type": "execute_result"
    }
   ],
   "source": [
    "index += ['LogisticRegression']\n",
    "scores['Balance_method'].append('None')\n",
    "\n",
    "scores['AUC'].append(grid.best_score_)\n",
    "scores['AUC_test'].append(auc.mean()) \n",
    "scores['Time'].append(time2) \n",
    "\n",
    "df_scores = pd.DataFrame(scores, index=index)\n",
    "df_scores"
   ]
  },
  {
   "cell_type": "markdown",
   "id": "64ee1014",
   "metadata": {},
   "source": [
    "#### 2° LR - Undersampling"
   ]
  },
  {
   "cell_type": "code",
   "execution_count": 18,
   "id": "5be97d2d",
   "metadata": {},
   "outputs": [
    {
     "name": "stdout",
     "output_type": "stream",
     "text": [
      "meilleur score :  0.5812585682567806\n",
      "meilleur paramètre :  {'classifier__penalty': 'none'}\n"
     ]
    }
   ],
   "source": [
    "model = Pipeline(steps = [['under', RandomUnderSampler()], ['classifier', LogisticRegression(random_state=50)]])\n",
    "\n",
    "param_grid = {'classifier__penalty' :['elasticnet', 'none']}  \n",
    "grid = GS(estimator = model, param_grid=param_grid, scoring='roc_auc', cv = 5, n_jobs=-1)\n",
    "\n",
    "# Entraînement\n",
    "grid.fit(X_train, Y_train)\n",
    "print('meilleur score : ' , grid.best_score_)\n",
    "print('meilleur paramètre : ' , grid.best_params_)"
   ]
  },
  {
   "cell_type": "code",
   "execution_count": 19,
   "id": "ea374a0c",
   "metadata": {},
   "outputs": [
    {
     "data": {
      "text/html": [
       "<div>\n",
       "<style scoped>\n",
       "    .dataframe tbody tr th:only-of-type {\n",
       "        vertical-align: middle;\n",
       "    }\n",
       "\n",
       "    .dataframe tbody tr th {\n",
       "        vertical-align: top;\n",
       "    }\n",
       "\n",
       "    .dataframe thead th {\n",
       "        text-align: right;\n",
       "    }\n",
       "</style>\n",
       "<table border=\"1\" class=\"dataframe\">\n",
       "  <thead>\n",
       "    <tr style=\"text-align: right;\">\n",
       "      <th>Actual</th>\n",
       "      <th>0.0</th>\n",
       "      <th>1.0</th>\n",
       "    </tr>\n",
       "    <tr>\n",
       "      <th>Predicted</th>\n",
       "      <th></th>\n",
       "      <th></th>\n",
       "    </tr>\n",
       "  </thead>\n",
       "  <tbody>\n",
       "    <tr>\n",
       "      <th>0.0</th>\n",
       "      <td>23023</td>\n",
       "      <td>1974</td>\n",
       "    </tr>\n",
       "    <tr>\n",
       "      <th>1.0</th>\n",
       "      <td>2654</td>\n",
       "      <td>242</td>\n",
       "    </tr>\n",
       "  </tbody>\n",
       "</table>\n",
       "</div>"
      ],
      "text/plain": [
       "Actual       0.0   1.0\n",
       "Predicted             \n",
       "0.0        23023  1974\n",
       "1.0         2654   242"
      ]
     },
     "execution_count": 19,
     "metadata": {},
     "output_type": "execute_result"
    }
   ],
   "source": [
    "time1 = time.time()\n",
    "\n",
    "model = grid.best_estimator_\n",
    "model.fit(X_train, Y_train)\n",
    "\n",
    "# Prédiction sur le jeu de test\n",
    "Y_test_pred = model.predict(X_test)\n",
    "\n",
    "time2 = np.round(time.time() - time1,0)\n",
    "\n",
    "# Calcul AUC\n",
    "y_pred_proba = model.predict_proba(X_test)[:, 1]\n",
    "auc = roc_auc_score(Y_test, y_pred_proba)\n",
    "\n",
    "generate_crosstab()"
   ]
  },
  {
   "cell_type": "code",
   "execution_count": 20,
   "id": "d604fbe5",
   "metadata": {},
   "outputs": [
    {
     "data": {
      "image/png": "[encoded data removed]",
      "text/plain": [
       "<Figure size 600x400 with 1 Axes>"
      ]
     },
     "metadata": {},
     "output_type": "display_data"
    }
   ],
   "source": [
    "generate_auc_roc_curve(model, X_test)"
   ]
  },
  {
   "cell_type": "code",
   "execution_count": 21,
   "id": "f2b84c63",
   "metadata": {},
   "outputs": [
    {
     "data": {
      "text/html": [
       "<div>\n",
       "<style scoped>\n",
       "    .dataframe tbody tr th:only-of-type {\n",
       "        vertical-align: middle;\n",
       "    }\n",
       "\n",
       "    .dataframe tbody tr th {\n",
       "        vertical-align: top;\n",
       "    }\n",
       "\n",
       "    .dataframe thead th {\n",
       "        text-align: right;\n",
       "    }\n",
       "</style>\n",
       "<table border=\"1\" class=\"dataframe\">\n",
       "  <thead>\n",
       "    <tr style=\"text-align: right;\">\n",
       "      <th></th>\n",
       "      <th>Balance_method</th>\n",
       "      <th>AUC</th>\n",
       "      <th>AUC_test</th>\n",
       "      <th>Time</th>\n",
       "    </tr>\n",
       "  </thead>\n",
       "  <tbody>\n",
       "    <tr>\n",
       "      <th>DummyClassifier</th>\n",
       "      <td>None</td>\n",
       "      <td>0.500076</td>\n",
       "      <td>0.500229</td>\n",
       "      <td>0.0</td>\n",
       "    </tr>\n",
       "    <tr>\n",
       "      <th>LogisticRegression</th>\n",
       "      <td>None</td>\n",
       "      <td>0.550622</td>\n",
       "      <td>0.550346</td>\n",
       "      <td>22.0</td>\n",
       "    </tr>\n",
       "    <tr>\n",
       "      <th>LogisticRegression</th>\n",
       "      <td>Undersampling</td>\n",
       "      <td>0.581259</td>\n",
       "      <td>0.587700</td>\n",
       "      <td>3.0</td>\n",
       "    </tr>\n",
       "  </tbody>\n",
       "</table>\n",
       "</div>"
      ],
      "text/plain": [
       "                   Balance_method       AUC  AUC_test  Time\n",
       "DummyClassifier              None  0.500076  0.500229   0.0\n",
       "LogisticRegression           None  0.550622  0.550346  22.0\n",
       "LogisticRegression  Undersampling  0.581259  0.587700   3.0"
      ]
     },
     "execution_count": 21,
     "metadata": {},
     "output_type": "execute_result"
    }
   ],
   "source": [
    "index += ['LogisticRegression']\n",
    "scores['Balance_method'].append('Undersampling')\n",
    "\n",
    "scores['AUC'].append(grid.best_score_)\n",
    "scores['AUC_test'].append(auc.mean()) \n",
    "scores['Time'].append(time2) \n",
    "\n",
    "df_scores = pd.DataFrame(scores, index=index)\n",
    "df_scores"
   ]
  },
  {
   "cell_type": "markdown",
   "id": "e30649fa",
   "metadata": {},
   "source": [
    "#### 3° LR - Oversampling"
   ]
  },
  {
   "cell_type": "code",
   "execution_count": 22,
   "id": "41924b01",
   "metadata": {},
   "outputs": [
    {
     "name": "stdout",
     "output_type": "stream",
     "text": [
      "meilleur score :  0.5876051302807761\n",
      "meilleur paramètre :  {'classifier__penalty': 'none'}\n"
     ]
    }
   ],
   "source": [
    "model = Pipeline(steps = [['smote', SMOTE(random_state=11)], ['classifier', LogisticRegression(random_state=50)]])\n",
    "\n",
    "param_grid = {'classifier__penalty' :['elasticnet', 'none']}  \n",
    "grid = GS(estimator = model, param_grid=param_grid, scoring='roc_auc', cv = 5, n_jobs=-1)\n",
    "\n",
    "# Entraînement\n",
    "grid.fit(X_train, Y_train)\n",
    "print('meilleur score : ' , grid.best_score_)\n",
    "print('meilleur paramètre : ' , grid.best_params_)"
   ]
  },
  {
   "cell_type": "code",
   "execution_count": 23,
   "id": "249f7af3",
   "metadata": {},
   "outputs": [
    {
     "data": {
      "text/html": [
       "<div>\n",
       "<style scoped>\n",
       "    .dataframe tbody tr th:only-of-type {\n",
       "        vertical-align: middle;\n",
       "    }\n",
       "\n",
       "    .dataframe tbody tr th {\n",
       "        vertical-align: top;\n",
       "    }\n",
       "\n",
       "    .dataframe thead th {\n",
       "        text-align: right;\n",
       "    }\n",
       "</style>\n",
       "<table border=\"1\" class=\"dataframe\">\n",
       "  <thead>\n",
       "    <tr style=\"text-align: right;\">\n",
       "      <th>Actual</th>\n",
       "      <th>0.0</th>\n",
       "      <th>1.0</th>\n",
       "    </tr>\n",
       "    <tr>\n",
       "      <th>Predicted</th>\n",
       "      <th></th>\n",
       "      <th></th>\n",
       "    </tr>\n",
       "  </thead>\n",
       "  <tbody>\n",
       "    <tr>\n",
       "      <th>0.0</th>\n",
       "      <td>12120</td>\n",
       "      <td>1032</td>\n",
       "    </tr>\n",
       "    <tr>\n",
       "      <th>1.0</th>\n",
       "      <td>13557</td>\n",
       "      <td>1184</td>\n",
       "    </tr>\n",
       "  </tbody>\n",
       "</table>\n",
       "</div>"
      ],
      "text/plain": [
       "Actual       0.0   1.0\n",
       "Predicted             \n",
       "0.0        12120  1032\n",
       "1.0        13557  1184"
      ]
     },
     "execution_count": 23,
     "metadata": {},
     "output_type": "execute_result"
    }
   ],
   "source": [
    "time1 = time.time()\n",
    "\n",
    "model = grid.best_estimator_\n",
    "model.fit(X_train, Y_train)\n",
    "\n",
    "# Prédiction sur le jeu de test\n",
    "Y_test_pred = model.predict(X_test)\n",
    "\n",
    "time2 = np.round(time.time() - time1,0)\n",
    "\n",
    "# Calcul AUC\n",
    "y_pred_proba = model.predict_proba(X_test)[:, 1]\n",
    "auc = roc_auc_score(Y_test, y_pred_proba)\n",
    "\n",
    "generate_crosstab()"
   ]
  },
  {
   "cell_type": "code",
   "execution_count": 24,
   "id": "3a664ca9",
   "metadata": {
    "scrolled": false
   },
   "outputs": [
    {
     "data": {
      "image/png": "[encoded data removed]",
      "text/plain": [
       "<Figure size 600x400 with 1 Axes>"
      ]
     },
     "metadata": {},
     "output_type": "display_data"
    }
   ],
   "source": [
    "generate_auc_roc_curve(model, X_test)"
   ]
  },
  {
   "cell_type": "code",
   "execution_count": 25,
   "id": "4cff1ed6",
   "metadata": {},
   "outputs": [
    {
     "data": {
      "text/html": [
       "<div>\n",
       "<style scoped>\n",
       "    .dataframe tbody tr th:only-of-type {\n",
       "        vertical-align: middle;\n",
       "    }\n",
       "\n",
       "    .dataframe tbody tr th {\n",
       "        vertical-align: top;\n",
       "    }\n",
       "\n",
       "    .dataframe thead th {\n",
       "        text-align: right;\n",
       "    }\n",
       "</style>\n",
       "<table border=\"1\" class=\"dataframe\">\n",
       "  <thead>\n",
       "    <tr style=\"text-align: right;\">\n",
       "      <th></th>\n",
       "      <th>Balance_method</th>\n",
       "      <th>AUC</th>\n",
       "      <th>AUC_test</th>\n",
       "      <th>Time</th>\n",
       "    </tr>\n",
       "  </thead>\n",
       "  <tbody>\n",
       "    <tr>\n",
       "      <th>DummyClassifier</th>\n",
       "      <td>None</td>\n",
       "      <td>0.500076</td>\n",
       "      <td>0.500229</td>\n",
       "      <td>0.0</td>\n",
       "    </tr>\n",
       "    <tr>\n",
       "      <th>LogisticRegression</th>\n",
       "      <td>None</td>\n",
       "      <td>0.550622</td>\n",
       "      <td>0.550346</td>\n",
       "      <td>22.0</td>\n",
       "    </tr>\n",
       "    <tr>\n",
       "      <th>LogisticRegression</th>\n",
       "      <td>Undersampling</td>\n",
       "      <td>0.581259</td>\n",
       "      <td>0.587700</td>\n",
       "      <td>3.0</td>\n",
       "    </tr>\n",
       "    <tr>\n",
       "      <th>LogisticRegression</th>\n",
       "      <td>Oversampling</td>\n",
       "      <td>0.587605</td>\n",
       "      <td>0.602902</td>\n",
       "      <td>56.0</td>\n",
       "    </tr>\n",
       "  </tbody>\n",
       "</table>\n",
       "</div>"
      ],
      "text/plain": [
       "                   Balance_method       AUC  AUC_test  Time\n",
       "DummyClassifier              None  0.500076  0.500229   0.0\n",
       "LogisticRegression           None  0.550622  0.550346  22.0\n",
       "LogisticRegression  Undersampling  0.581259  0.587700   3.0\n",
       "LogisticRegression   Oversampling  0.587605  0.602902  56.0"
      ]
     },
     "execution_count": 25,
     "metadata": {},
     "output_type": "execute_result"
    }
   ],
   "source": [
    "index += ['LogisticRegression']\n",
    "scores['Balance_method'].append('Oversampling')\n",
    "\n",
    "scores['AUC'].append(grid.best_score_)\n",
    "scores['AUC_test'].append(auc.mean()) \n",
    "scores['Time'].append(time2) \n",
    "\n",
    "df_scores = pd.DataFrame(scores, index=index)\n",
    "df_scores"
   ]
  },
  {
   "cell_type": "markdown",
   "id": "79785429",
   "metadata": {},
   "source": [
    "#### 4° LR - Class_weight = Balanced"
   ]
  },
  {
   "cell_type": "code",
   "execution_count": 26,
   "id": "1f4dd023",
   "metadata": {},
   "outputs": [
    {
     "name": "stdout",
     "output_type": "stream",
     "text": [
      "meilleur score :  0.594089110967881\n",
      "meilleur paramètre :  {'penalty': 'none'}\n"
     ]
    }
   ],
   "source": [
    "param_grid = {'penalty' :['elasticnet', 'none']}   \n",
    "grid = GS(LogisticRegression(class_weight = 'balanced'), param_grid, scoring='roc_auc', cv = 5)\n",
    "\n",
    "# Entraînement\n",
    "grid.fit(X_train, Y_train)\n",
    "print('meilleur score : ' , grid.best_score_)\n",
    "print('meilleur paramètre : ' , grid.best_params_)"
   ]
  },
  {
   "cell_type": "code",
   "execution_count": 27,
   "id": "03e7f904",
   "metadata": {},
   "outputs": [
    {
     "data": {
      "text/html": [
       "<div>\n",
       "<style scoped>\n",
       "    .dataframe tbody tr th:only-of-type {\n",
       "        vertical-align: middle;\n",
       "    }\n",
       "\n",
       "    .dataframe tbody tr th {\n",
       "        vertical-align: top;\n",
       "    }\n",
       "\n",
       "    .dataframe thead th {\n",
       "        text-align: right;\n",
       "    }\n",
       "</style>\n",
       "<table border=\"1\" class=\"dataframe\">\n",
       "  <thead>\n",
       "    <tr style=\"text-align: right;\">\n",
       "      <th>Actual</th>\n",
       "      <th>0.0</th>\n",
       "      <th>1.0</th>\n",
       "    </tr>\n",
       "    <tr>\n",
       "      <th>Predicted</th>\n",
       "      <th></th>\n",
       "      <th></th>\n",
       "    </tr>\n",
       "  </thead>\n",
       "  <tbody>\n",
       "    <tr>\n",
       "      <th>0.0</th>\n",
       "      <td>19722</td>\n",
       "      <td>1698</td>\n",
       "    </tr>\n",
       "    <tr>\n",
       "      <th>1.0</th>\n",
       "      <td>5955</td>\n",
       "      <td>518</td>\n",
       "    </tr>\n",
       "  </tbody>\n",
       "</table>\n",
       "</div>"
      ],
      "text/plain": [
       "Actual       0.0   1.0\n",
       "Predicted             \n",
       "0.0        19722  1698\n",
       "1.0         5955   518"
      ]
     },
     "execution_count": 27,
     "metadata": {},
     "output_type": "execute_result"
    }
   ],
   "source": [
    "time1 = time.time()\n",
    "\n",
    "model = grid.best_estimator_\n",
    "model.fit(X_train, Y_train)\n",
    "\n",
    "# Prédiction sur le jeu de test\n",
    "Y_test_pred = model.predict(X_test)\n",
    "\n",
    "time2 = np.round(time.time() - time1,0)\n",
    "\n",
    "# Calcul AUC\n",
    "y_pred_proba = model.predict_proba(X_test)[:, 1]\n",
    "auc = roc_auc_score(Y_test, y_pred_proba)\n",
    "generate_crosstab()"
   ]
  },
  {
   "cell_type": "code",
   "execution_count": 28,
   "id": "eb10996d",
   "metadata": {
    "scrolled": false
   },
   "outputs": [
    {
     "data": {
      "image/png": "[encoded data removed]",
      "text/plain": [
       "<Figure size 600x400 with 1 Axes>"
      ]
     },
     "metadata": {},
     "output_type": "display_data"
    }
   ],
   "source": [
    "generate_auc_roc_curve(model, X_test)"
   ]
  },
  {
   "cell_type": "code",
   "execution_count": 29,
   "id": "431eaf3a",
   "metadata": {},
   "outputs": [
    {
     "data": {
      "text/html": [
       "<div>\n",
       "<style scoped>\n",
       "    .dataframe tbody tr th:only-of-type {\n",
       "        vertical-align: middle;\n",
       "    }\n",
       "\n",
       "    .dataframe tbody tr th {\n",
       "        vertical-align: top;\n",
       "    }\n",
       "\n",
       "    .dataframe thead th {\n",
       "        text-align: right;\n",
       "    }\n",
       "</style>\n",
       "<table border=\"1\" class=\"dataframe\">\n",
       "  <thead>\n",
       "    <tr style=\"text-align: right;\">\n",
       "      <th></th>\n",
       "      <th>Balance_method</th>\n",
       "      <th>AUC</th>\n",
       "      <th>AUC_test</th>\n",
       "      <th>Time</th>\n",
       "    </tr>\n",
       "  </thead>\n",
       "  <tbody>\n",
       "    <tr>\n",
       "      <th>DummyClassifier</th>\n",
       "      <td>None</td>\n",
       "      <td>0.500076</td>\n",
       "      <td>0.500229</td>\n",
       "      <td>0.0</td>\n",
       "    </tr>\n",
       "    <tr>\n",
       "      <th>LogisticRegression</th>\n",
       "      <td>None</td>\n",
       "      <td>0.550622</td>\n",
       "      <td>0.550346</td>\n",
       "      <td>22.0</td>\n",
       "    </tr>\n",
       "    <tr>\n",
       "      <th>LogisticRegression</th>\n",
       "      <td>Undersampling</td>\n",
       "      <td>0.581259</td>\n",
       "      <td>0.587700</td>\n",
       "      <td>3.0</td>\n",
       "    </tr>\n",
       "    <tr>\n",
       "      <th>LogisticRegression</th>\n",
       "      <td>Oversampling</td>\n",
       "      <td>0.587605</td>\n",
       "      <td>0.602902</td>\n",
       "      <td>56.0</td>\n",
       "    </tr>\n",
       "    <tr>\n",
       "      <th>LogisticRegression</th>\n",
       "      <td>Class_weight=balanced</td>\n",
       "      <td>0.594089</td>\n",
       "      <td>0.589356</td>\n",
       "      <td>13.0</td>\n",
       "    </tr>\n",
       "  </tbody>\n",
       "</table>\n",
       "</div>"
      ],
      "text/plain": [
       "                           Balance_method       AUC  AUC_test  Time\n",
       "DummyClassifier                      None  0.500076  0.500229   0.0\n",
       "LogisticRegression                   None  0.550622  0.550346  22.0\n",
       "LogisticRegression          Undersampling  0.581259  0.587700   3.0\n",
       "LogisticRegression           Oversampling  0.587605  0.602902  56.0\n",
       "LogisticRegression  Class_weight=balanced  0.594089  0.589356  13.0"
      ]
     },
     "execution_count": 29,
     "metadata": {},
     "output_type": "execute_result"
    }
   ],
   "source": [
    "index += ['LogisticRegression']\n",
    "scores['Balance_method'].append('Class_weight=balanced')\n",
    "\n",
    "scores['AUC'].append(grid.best_score_)\n",
    "scores['AUC_test'].append(auc.mean()) \n",
    "scores['Time'].append(time2) \n",
    "\n",
    "df_scores = pd.DataFrame(scores, index=index)\n",
    "df_scores"
   ]
  },
  {
   "cell_type": "markdown",
   "id": "2157138a",
   "metadata": {},
   "source": [
    "### c)  RandomForestClassifier"
   ]
  },
  {
   "cell_type": "markdown",
   "id": "3e7d466e",
   "metadata": {},
   "source": [
    "#### 1° RFC - Données Brutes"
   ]
  },
  {
   "cell_type": "code",
   "execution_count": 31,
   "id": "81ec1537",
   "metadata": {},
   "outputs": [
    {
     "name": "stdout",
     "output_type": "stream",
     "text": [
      "meilleur score :  0.7332118335779148\n",
      "meilleur paramètre :  {'max_depth': 6, 'n_estimators': 100}\n"
     ]
    }
   ],
   "source": [
    "param_grid = { \"n_estimators\" : [100], # number of trees in the forest\n",
    "                \"max_depth\" : [4, 6] }  # maximum depth of the tree\n",
    "\n",
    "grid = GS(RandomForestClassifier(), param_grid, scoring='roc_auc', cv = 5)\n",
    "\n",
    "# Entraînement\n",
    "grid.fit(X_train, Y_train)\n",
    "print('meilleur score : ' , grid.best_score_)\n",
    "print('meilleur paramètre : ' , grid.best_params_)"
   ]
  },
  {
   "cell_type": "code",
   "execution_count": 32,
   "id": "6aefb9e2",
   "metadata": {},
   "outputs": [
    {
     "data": {
      "text/html": [
       "<div>\n",
       "<style scoped>\n",
       "    .dataframe tbody tr th:only-of-type {\n",
       "        vertical-align: middle;\n",
       "    }\n",
       "\n",
       "    .dataframe tbody tr th {\n",
       "        vertical-align: top;\n",
       "    }\n",
       "\n",
       "    .dataframe thead th {\n",
       "        text-align: right;\n",
       "    }\n",
       "</style>\n",
       "<table border=\"1\" class=\"dataframe\">\n",
       "  <thead>\n",
       "    <tr style=\"text-align: right;\">\n",
       "      <th>Actual</th>\n",
       "      <th>0.0</th>\n",
       "      <th>1.0</th>\n",
       "    </tr>\n",
       "    <tr>\n",
       "      <th>Predicted</th>\n",
       "      <th></th>\n",
       "      <th></th>\n",
       "    </tr>\n",
       "  </thead>\n",
       "  <tbody>\n",
       "    <tr>\n",
       "      <th>0.0</th>\n",
       "      <td>25677</td>\n",
       "      <td>2216</td>\n",
       "    </tr>\n",
       "  </tbody>\n",
       "</table>\n",
       "</div>"
      ],
      "text/plain": [
       "Actual       0.0   1.0\n",
       "Predicted             \n",
       "0.0        25677  2216"
      ]
     },
     "execution_count": 32,
     "metadata": {},
     "output_type": "execute_result"
    }
   ],
   "source": [
    "time1 = time.time()\n",
    "\n",
    "model = grid.best_estimator_\n",
    "model.fit(X_train, Y_train)\n",
    "\n",
    "# Prédiction sur le jeu de test\n",
    "Y_test_pred = model.predict(X_test)\n",
    "\n",
    "time2 = np.round(time.time() - time1,0)\n",
    "\n",
    "# Calcul AUC\n",
    "y_pred_proba = model.predict_proba(X_test)[:, 1]\n",
    "auc = roc_auc_score(Y_test, y_pred_proba)\n",
    "\n",
    "generate_crosstab()"
   ]
  },
  {
   "cell_type": "code",
   "execution_count": 33,
   "id": "502fa962",
   "metadata": {
    "scrolled": false
   },
   "outputs": [
    {
     "data": {
      "image/png": "[encoded data removed]",
      "text/plain": [
       "<Figure size 600x400 with 1 Axes>"
      ]
     },
     "metadata": {},
     "output_type": "display_data"
    }
   ],
   "source": [
    "generate_auc_roc_curve(model, X_test)"
   ]
  },
  {
   "cell_type": "code",
   "execution_count": 34,
   "id": "2ad3c5e0",
   "metadata": {
    "scrolled": true
   },
   "outputs": [
    {
     "data": {
      "text/html": [
       "<div>\n",
       "<style scoped>\n",
       "    .dataframe tbody tr th:only-of-type {\n",
       "        vertical-align: middle;\n",
       "    }\n",
       "\n",
       "    .dataframe tbody tr th {\n",
       "        vertical-align: top;\n",
       "    }\n",
       "\n",
       "    .dataframe thead th {\n",
       "        text-align: right;\n",
       "    }\n",
       "</style>\n",
       "<table border=\"1\" class=\"dataframe\">\n",
       "  <thead>\n",
       "    <tr style=\"text-align: right;\">\n",
       "      <th></th>\n",
       "      <th>Balance_method</th>\n",
       "      <th>AUC</th>\n",
       "      <th>AUC_test</th>\n",
       "      <th>Time</th>\n",
       "    </tr>\n",
       "  </thead>\n",
       "  <tbody>\n",
       "    <tr>\n",
       "      <th>DummyClassifier</th>\n",
       "      <td>None</td>\n",
       "      <td>0.500076</td>\n",
       "      <td>0.500229</td>\n",
       "      <td>0.0</td>\n",
       "    </tr>\n",
       "    <tr>\n",
       "      <th>LogisticRegression</th>\n",
       "      <td>None</td>\n",
       "      <td>0.550622</td>\n",
       "      <td>0.550346</td>\n",
       "      <td>22.0</td>\n",
       "    </tr>\n",
       "    <tr>\n",
       "      <th>LogisticRegression</th>\n",
       "      <td>Undersampling</td>\n",
       "      <td>0.581259</td>\n",
       "      <td>0.587700</td>\n",
       "      <td>3.0</td>\n",
       "    </tr>\n",
       "    <tr>\n",
       "      <th>LogisticRegression</th>\n",
       "      <td>Oversampling</td>\n",
       "      <td>0.587605</td>\n",
       "      <td>0.602902</td>\n",
       "      <td>56.0</td>\n",
       "    </tr>\n",
       "    <tr>\n",
       "      <th>LogisticRegression</th>\n",
       "      <td>Class_weight=balanced</td>\n",
       "      <td>0.594089</td>\n",
       "      <td>0.589356</td>\n",
       "      <td>13.0</td>\n",
       "    </tr>\n",
       "    <tr>\n",
       "      <th>RandomForest</th>\n",
       "      <td>None</td>\n",
       "      <td>0.733212</td>\n",
       "      <td>0.738083</td>\n",
       "      <td>131.0</td>\n",
       "    </tr>\n",
       "  </tbody>\n",
       "</table>\n",
       "</div>"
      ],
      "text/plain": [
       "                           Balance_method       AUC  AUC_test   Time\n",
       "DummyClassifier                      None  0.500076  0.500229    0.0\n",
       "LogisticRegression                   None  0.550622  0.550346   22.0\n",
       "LogisticRegression          Undersampling  0.581259  0.587700    3.0\n",
       "LogisticRegression           Oversampling  0.587605  0.602902   56.0\n",
       "LogisticRegression  Class_weight=balanced  0.594089  0.589356   13.0\n",
       "RandomForest                         None  0.733212  0.738083  131.0"
      ]
     },
     "execution_count": 34,
     "metadata": {},
     "output_type": "execute_result"
    }
   ],
   "source": [
    "index += ['RandomForest']\n",
    "scores['Balance_method'].append('None')\n",
    "\n",
    "scores['AUC'].append(grid.best_score_)\n",
    "scores['AUC_test'].append(auc.mean()) \n",
    "scores['Time'].append(time2) \n",
    "\n",
    "df_scores = pd.DataFrame(scores, index=index)\n",
    "df_scores"
   ]
  },
  {
   "cell_type": "markdown",
   "id": "77b315db",
   "metadata": {},
   "source": [
    "#### 2° RFC - Undersampling"
   ]
  },
  {
   "cell_type": "code",
   "execution_count": 35,
   "id": "3c561008",
   "metadata": {},
   "outputs": [
    {
     "name": "stdout",
     "output_type": "stream",
     "text": [
      "meilleur score :  0.7309923994108682\n",
      "meilleur paramètre :  {'classifier__max_depth': 6, 'classifier__n_estimators': 100}\n"
     ]
    }
   ],
   "source": [
    "model = Pipeline(steps = [['under', RandomUnderSampler()], ['classifier', RandomForestClassifier(random_state=50)]])\n",
    "\n",
    "param_grid = { 'classifier__n_estimators' : [100], 'classifier__max_depth' : [4, 6] }   \n",
    "grid = GS(estimator = model, param_grid=param_grid, scoring='roc_auc', cv = 5, n_jobs=-1)\n",
    "\n",
    "# Entraînement\n",
    "grid.fit(X_train, Y_train)\n",
    "print('meilleur score : ' , grid.best_score_)\n",
    "print('meilleur paramètre : ' , grid.best_params_)"
   ]
  },
  {
   "cell_type": "code",
   "execution_count": 36,
   "id": "82a825ab",
   "metadata": {},
   "outputs": [
    {
     "data": {
      "text/html": [
       "<div>\n",
       "<style scoped>\n",
       "    .dataframe tbody tr th:only-of-type {\n",
       "        vertical-align: middle;\n",
       "    }\n",
       "\n",
       "    .dataframe tbody tr th {\n",
       "        vertical-align: top;\n",
       "    }\n",
       "\n",
       "    .dataframe thead th {\n",
       "        text-align: right;\n",
       "    }\n",
       "</style>\n",
       "<table border=\"1\" class=\"dataframe\">\n",
       "  <thead>\n",
       "    <tr style=\"text-align: right;\">\n",
       "      <th>Actual</th>\n",
       "      <th>0.0</th>\n",
       "      <th>1.0</th>\n",
       "    </tr>\n",
       "    <tr>\n",
       "      <th>Predicted</th>\n",
       "      <th></th>\n",
       "      <th></th>\n",
       "    </tr>\n",
       "  </thead>\n",
       "  <tbody>\n",
       "    <tr>\n",
       "      <th>0.0</th>\n",
       "      <td>16361</td>\n",
       "      <td>1429</td>\n",
       "    </tr>\n",
       "    <tr>\n",
       "      <th>1.0</th>\n",
       "      <td>9316</td>\n",
       "      <td>787</td>\n",
       "    </tr>\n",
       "  </tbody>\n",
       "</table>\n",
       "</div>"
      ],
      "text/plain": [
       "Actual       0.0   1.0\n",
       "Predicted             \n",
       "0.0        16361  1429\n",
       "1.0         9316   787"
      ]
     },
     "execution_count": 36,
     "metadata": {},
     "output_type": "execute_result"
    }
   ],
   "source": [
    "time1 = time.time()\n",
    "\n",
    "model = grid.best_estimator_\n",
    "model.fit(X_train, Y_train)\n",
    "\n",
    "# Prédiction sur le jeu de test\n",
    "Y_test_pred = model.predict(X_test)\n",
    "\n",
    "time2 = np.round(time.time() - time1,0)\n",
    "\n",
    "# Calcul AUC\n",
    "y_pred_proba = model.predict_proba(X_test)[:, 1]\n",
    "auc = roc_auc_score(Y_test, y_pred_proba)\n",
    "\n",
    "generate_crosstab()"
   ]
  },
  {
   "cell_type": "code",
   "execution_count": 37,
   "id": "8d1af1e3",
   "metadata": {
    "scrolled": false
   },
   "outputs": [
    {
     "data": {
      "image/png": "[encoded data removed]",
      "text/plain": [
       "<Figure size 600x400 with 1 Axes>"
      ]
     },
     "metadata": {},
     "output_type": "display_data"
    }
   ],
   "source": [
    "generate_auc_roc_curve(model, X_test)"
   ]
  },
  {
   "cell_type": "code",
   "execution_count": 38,
   "id": "9cd26dbc",
   "metadata": {},
   "outputs": [
    {
     "data": {
      "text/html": [
       "<div>\n",
       "<style scoped>\n",
       "    .dataframe tbody tr th:only-of-type {\n",
       "        vertical-align: middle;\n",
       "    }\n",
       "\n",
       "    .dataframe tbody tr th {\n",
       "        vertical-align: top;\n",
       "    }\n",
       "\n",
       "    .dataframe thead th {\n",
       "        text-align: right;\n",
       "    }\n",
       "</style>\n",
       "<table border=\"1\" class=\"dataframe\">\n",
       "  <thead>\n",
       "    <tr style=\"text-align: right;\">\n",
       "      <th></th>\n",
       "      <th>Balance_method</th>\n",
       "      <th>AUC</th>\n",
       "      <th>AUC_test</th>\n",
       "      <th>Time</th>\n",
       "    </tr>\n",
       "  </thead>\n",
       "  <tbody>\n",
       "    <tr>\n",
       "      <th>DummyClassifier</th>\n",
       "      <td>None</td>\n",
       "      <td>0.500076</td>\n",
       "      <td>0.500229</td>\n",
       "      <td>0.0</td>\n",
       "    </tr>\n",
       "    <tr>\n",
       "      <th>LogisticRegression</th>\n",
       "      <td>None</td>\n",
       "      <td>0.550622</td>\n",
       "      <td>0.550346</td>\n",
       "      <td>22.0</td>\n",
       "    </tr>\n",
       "    <tr>\n",
       "      <th>LogisticRegression</th>\n",
       "      <td>Undersampling</td>\n",
       "      <td>0.581259</td>\n",
       "      <td>0.587700</td>\n",
       "      <td>3.0</td>\n",
       "    </tr>\n",
       "    <tr>\n",
       "      <th>LogisticRegression</th>\n",
       "      <td>Oversampling</td>\n",
       "      <td>0.587605</td>\n",
       "      <td>0.602902</td>\n",
       "      <td>56.0</td>\n",
       "    </tr>\n",
       "    <tr>\n",
       "      <th>LogisticRegression</th>\n",
       "      <td>Class_weight=balanced</td>\n",
       "      <td>0.594089</td>\n",
       "      <td>0.589356</td>\n",
       "      <td>13.0</td>\n",
       "    </tr>\n",
       "    <tr>\n",
       "      <th>RandomForest</th>\n",
       "      <td>None</td>\n",
       "      <td>0.733212</td>\n",
       "      <td>0.738083</td>\n",
       "      <td>131.0</td>\n",
       "    </tr>\n",
       "    <tr>\n",
       "      <th>RandomForest</th>\n",
       "      <td>Undersampling</td>\n",
       "      <td>0.730992</td>\n",
       "      <td>0.733579</td>\n",
       "      <td>20.0</td>\n",
       "    </tr>\n",
       "  </tbody>\n",
       "</table>\n",
       "</div>"
      ],
      "text/plain": [
       "                           Balance_method       AUC  AUC_test   Time\n",
       "DummyClassifier                      None  0.500076  0.500229    0.0\n",
       "LogisticRegression                   None  0.550622  0.550346   22.0\n",
       "LogisticRegression          Undersampling  0.581259  0.587700    3.0\n",
       "LogisticRegression           Oversampling  0.587605  0.602902   56.0\n",
       "LogisticRegression  Class_weight=balanced  0.594089  0.589356   13.0\n",
       "RandomForest                         None  0.733212  0.738083  131.0\n",
       "RandomForest                Undersampling  0.730992  0.733579   20.0"
      ]
     },
     "execution_count": 38,
     "metadata": {},
     "output_type": "execute_result"
    }
   ],
   "source": [
    "index += ['RandomForest']\n",
    "scores['Balance_method'].append('Undersampling')\n",
    "\n",
    "scores['AUC'].append(grid.best_score_)\n",
    "scores['AUC_test'].append(auc.mean()) \n",
    "scores['Time'].append(time2) \n",
    "\n",
    "df_scores = pd.DataFrame(scores, index=index)\n",
    "df_scores"
   ]
  },
  {
   "cell_type": "markdown",
   "id": "3958fd34",
   "metadata": {},
   "source": [
    "#### 3° RFC - Oversampling"
   ]
  },
  {
   "cell_type": "code",
   "execution_count": 39,
   "id": "8bd169a6",
   "metadata": {},
   "outputs": [
    {
     "name": "stdout",
     "output_type": "stream",
     "text": [
      "meilleur score :  0.6678453535643236\n",
      "meilleur paramètre :  {'classifier__max_depth': 6, 'classifier__n_estimators': 100}\n"
     ]
    }
   ],
   "source": [
    "model = Pipeline(steps = [['smote', SMOTE(random_state=11)], ['classifier', RandomForestClassifier(random_state=50)]])\n",
    "\n",
    "# réutilisation des meilleurs paramètres obtenus avec les 2 modélisations RandomForest précédentes\n",
    "param_grid = { 'classifier__n_estimators' : [100], 'classifier__max_depth' : [6] }   \n",
    "grid = GS(estimator = model, param_grid=param_grid, scoring='roc_auc', cv = 5, n_jobs=-1)\n",
    "\n",
    "# Entraînement\n",
    "grid.fit(X_train, Y_train)\n",
    "print('meilleur score : ' , grid.best_score_)\n",
    "print('meilleur paramètre : ' , grid.best_params_)"
   ]
  },
  {
   "cell_type": "code",
   "execution_count": 40,
   "id": "0dab806e",
   "metadata": {},
   "outputs": [
    {
     "data": {
      "text/html": [
       "<div>\n",
       "<style scoped>\n",
       "    .dataframe tbody tr th:only-of-type {\n",
       "        vertical-align: middle;\n",
       "    }\n",
       "\n",
       "    .dataframe tbody tr th {\n",
       "        vertical-align: top;\n",
       "    }\n",
       "\n",
       "    .dataframe thead th {\n",
       "        text-align: right;\n",
       "    }\n",
       "</style>\n",
       "<table border=\"1\" class=\"dataframe\">\n",
       "  <thead>\n",
       "    <tr style=\"text-align: right;\">\n",
       "      <th>Actual</th>\n",
       "      <th>0.0</th>\n",
       "      <th>1.0</th>\n",
       "    </tr>\n",
       "    <tr>\n",
       "      <th>Predicted</th>\n",
       "      <th></th>\n",
       "      <th></th>\n",
       "    </tr>\n",
       "  </thead>\n",
       "  <tbody>\n",
       "    <tr>\n",
       "      <th>0.0</th>\n",
       "      <td>23661</td>\n",
       "      <td>2048</td>\n",
       "    </tr>\n",
       "    <tr>\n",
       "      <th>1.0</th>\n",
       "      <td>2016</td>\n",
       "      <td>168</td>\n",
       "    </tr>\n",
       "  </tbody>\n",
       "</table>\n",
       "</div>"
      ],
      "text/plain": [
       "Actual       0.0   1.0\n",
       "Predicted             \n",
       "0.0        23661  2048\n",
       "1.0         2016   168"
      ]
     },
     "execution_count": 40,
     "metadata": {},
     "output_type": "execute_result"
    }
   ],
   "source": [
    "time1 = time.time()\n",
    "\n",
    "model = grid.best_estimator_\n",
    "model.fit(X_train, Y_train)\n",
    "\n",
    "# Prédiction sur le jeu de test\n",
    "Y_test_pred = model.predict(X_test)\n",
    "\n",
    "time2 = np.round(time.time() - time1,0)\n",
    "\n",
    "# Calcul AUC\n",
    "y_pred_proba = model.predict_proba(X_test)[:, 1]\n",
    "auc = roc_auc_score(Y_test, y_pred_proba)\n",
    "\n",
    "generate_crosstab()"
   ]
  },
  {
   "cell_type": "code",
   "execution_count": 41,
   "id": "972e400a",
   "metadata": {
    "scrolled": false
   },
   "outputs": [
    {
     "data": {
      "image/png": "[encoded data removed]",
      "text/plain": [
       "<Figure size 600x400 with 1 Axes>"
      ]
     },
     "metadata": {},
     "output_type": "display_data"
    }
   ],
   "source": [
    "generate_auc_roc_curve(model, X_test)"
   ]
  },
  {
   "cell_type": "code",
   "execution_count": 42,
   "id": "711208b4",
   "metadata": {},
   "outputs": [
    {
     "data": {
      "text/html": [
       "<div>\n",
       "<style scoped>\n",
       "    .dataframe tbody tr th:only-of-type {\n",
       "        vertical-align: middle;\n",
       "    }\n",
       "\n",
       "    .dataframe tbody tr th {\n",
       "        vertical-align: top;\n",
       "    }\n",
       "\n",
       "    .dataframe thead th {\n",
       "        text-align: right;\n",
       "    }\n",
       "</style>\n",
       "<table border=\"1\" class=\"dataframe\">\n",
       "  <thead>\n",
       "    <tr style=\"text-align: right;\">\n",
       "      <th></th>\n",
       "      <th>Balance_method</th>\n",
       "      <th>AUC</th>\n",
       "      <th>AUC_test</th>\n",
       "      <th>Time</th>\n",
       "    </tr>\n",
       "  </thead>\n",
       "  <tbody>\n",
       "    <tr>\n",
       "      <th>DummyClassifier</th>\n",
       "      <td>None</td>\n",
       "      <td>0.500076</td>\n",
       "      <td>0.500229</td>\n",
       "      <td>0.0</td>\n",
       "    </tr>\n",
       "    <tr>\n",
       "      <th>LogisticRegression</th>\n",
       "      <td>None</td>\n",
       "      <td>0.550622</td>\n",
       "      <td>0.550346</td>\n",
       "      <td>22.0</td>\n",
       "    </tr>\n",
       "    <tr>\n",
       "      <th>LogisticRegression</th>\n",
       "      <td>Undersampling</td>\n",
       "      <td>0.581259</td>\n",
       "      <td>0.587700</td>\n",
       "      <td>3.0</td>\n",
       "    </tr>\n",
       "    <tr>\n",
       "      <th>LogisticRegression</th>\n",
       "      <td>Oversampling</td>\n",
       "      <td>0.587605</td>\n",
       "      <td>0.602902</td>\n",
       "      <td>56.0</td>\n",
       "    </tr>\n",
       "    <tr>\n",
       "      <th>LogisticRegression</th>\n",
       "      <td>Class_weight=balanced</td>\n",
       "      <td>0.594089</td>\n",
       "      <td>0.589356</td>\n",
       "      <td>13.0</td>\n",
       "    </tr>\n",
       "    <tr>\n",
       "      <th>RandomForest</th>\n",
       "      <td>None</td>\n",
       "      <td>0.733212</td>\n",
       "      <td>0.738083</td>\n",
       "      <td>131.0</td>\n",
       "    </tr>\n",
       "    <tr>\n",
       "      <th>RandomForest</th>\n",
       "      <td>Undersampling</td>\n",
       "      <td>0.730992</td>\n",
       "      <td>0.733579</td>\n",
       "      <td>20.0</td>\n",
       "    </tr>\n",
       "    <tr>\n",
       "      <th>RandomForest</th>\n",
       "      <td>Oversampling</td>\n",
       "      <td>0.667845</td>\n",
       "      <td>0.662825</td>\n",
       "      <td>365.0</td>\n",
       "    </tr>\n",
       "  </tbody>\n",
       "</table>\n",
       "</div>"
      ],
      "text/plain": [
       "                           Balance_method       AUC  AUC_test   Time\n",
       "DummyClassifier                      None  0.500076  0.500229    0.0\n",
       "LogisticRegression                   None  0.550622  0.550346   22.0\n",
       "LogisticRegression          Undersampling  0.581259  0.587700    3.0\n",
       "LogisticRegression           Oversampling  0.587605  0.602902   56.0\n",
       "LogisticRegression  Class_weight=balanced  0.594089  0.589356   13.0\n",
       "RandomForest                         None  0.733212  0.738083  131.0\n",
       "RandomForest                Undersampling  0.730992  0.733579   20.0\n",
       "RandomForest                 Oversampling  0.667845  0.662825  365.0"
      ]
     },
     "execution_count": 42,
     "metadata": {},
     "output_type": "execute_result"
    }
   ],
   "source": [
    "index += ['RandomForest']\n",
    "scores['Balance_method'].append('Oversampling')\n",
    "\n",
    "scores['AUC'].append(grid.best_score_)\n",
    "scores['AUC_test'].append(auc.mean()) \n",
    "scores['Time'].append(time2) \n",
    "\n",
    "df_scores = pd.DataFrame(scores, index=index)\n",
    "df_scores"
   ]
  },
  {
   "cell_type": "markdown",
   "id": "c2f9628b",
   "metadata": {},
   "source": [
    "#### 4° RFC - Class_weight = Balanced"
   ]
  },
  {
   "cell_type": "code",
   "execution_count": 43,
   "id": "380bf9dc",
   "metadata": {},
   "outputs": [
    {
     "name": "stdout",
     "output_type": "stream",
     "text": [
      "meilleur score :  0.7318321197430622\n",
      "meilleur paramètre :  {'max_depth': 6, 'n_estimators': 100}\n"
     ]
    }
   ],
   "source": [
    "# réutilisation des meilleurs paramètres obtenus avec les 2 modélisations RandomForest précédentes\n",
    "param_grid = { \"n_estimators\" : [100], \"max_depth\" : [6]}  \n",
    "                \n",
    "grid = GS(RandomForestClassifier(class_weight = 'balanced'), param_grid, scoring='roc_auc', cv = 5)\n",
    "\n",
    "# Entraînement\n",
    "grid.fit(X_train, Y_train)\n",
    "print('meilleur score : ' , grid.best_score_)\n",
    "print('meilleur paramètre : ' , grid.best_params_)"
   ]
  },
  {
   "cell_type": "code",
   "execution_count": 44,
   "id": "1865a583",
   "metadata": {},
   "outputs": [
    {
     "data": {
      "text/html": [
       "<div>\n",
       "<style scoped>\n",
       "    .dataframe tbody tr th:only-of-type {\n",
       "        vertical-align: middle;\n",
       "    }\n",
       "\n",
       "    .dataframe tbody tr th {\n",
       "        vertical-align: top;\n",
       "    }\n",
       "\n",
       "    .dataframe thead th {\n",
       "        text-align: right;\n",
       "    }\n",
       "</style>\n",
       "<table border=\"1\" class=\"dataframe\">\n",
       "  <thead>\n",
       "    <tr style=\"text-align: right;\">\n",
       "      <th>Actual</th>\n",
       "      <th>0.0</th>\n",
       "      <th>1.0</th>\n",
       "    </tr>\n",
       "    <tr>\n",
       "      <th>Predicted</th>\n",
       "      <th></th>\n",
       "      <th></th>\n",
       "    </tr>\n",
       "  </thead>\n",
       "  <tbody>\n",
       "    <tr>\n",
       "      <th>0.0</th>\n",
       "      <td>17067</td>\n",
       "      <td>1472</td>\n",
       "    </tr>\n",
       "    <tr>\n",
       "      <th>1.0</th>\n",
       "      <td>8610</td>\n",
       "      <td>744</td>\n",
       "    </tr>\n",
       "  </tbody>\n",
       "</table>\n",
       "</div>"
      ],
      "text/plain": [
       "Actual       0.0   1.0\n",
       "Predicted             \n",
       "0.0        17067  1472\n",
       "1.0         8610   744"
      ]
     },
     "execution_count": 44,
     "metadata": {},
     "output_type": "execute_result"
    }
   ],
   "source": [
    "time1 = time.time()\n",
    "\n",
    "model = grid.best_estimator_\n",
    "model.fit(X_train, Y_train)\n",
    "\n",
    "# Prédiction sur le jeu de test\n",
    "Y_test_pred = model.predict(X_test)\n",
    "\n",
    "time2 = np.round(time.time() - time1,0)\n",
    "\n",
    "# Calcul AUC\n",
    "y_pred_proba = model.predict_proba(X_test)[:, 1]\n",
    "auc = roc_auc_score(Y_test, y_pred_proba)\n",
    "\n",
    "generate_crosstab()"
   ]
  },
  {
   "cell_type": "code",
   "execution_count": 45,
   "id": "b47cb58f",
   "metadata": {
    "scrolled": false
   },
   "outputs": [
    {
     "data": {
      "image/png": "[encoded data removed]",
      "text/plain": [
       "<Figure size 600x400 with 1 Axes>"
      ]
     },
     "metadata": {},
     "output_type": "display_data"
    }
   ],
   "source": [
    "generate_auc_roc_curve(model, X_test)"
   ]
  },
  {
   "cell_type": "code",
   "execution_count": 46,
   "id": "f24a528e",
   "metadata": {},
   "outputs": [
    {
     "data": {
      "text/html": [
       "<div>\n",
       "<style scoped>\n",
       "    .dataframe tbody tr th:only-of-type {\n",
       "        vertical-align: middle;\n",
       "    }\n",
       "\n",
       "    .dataframe tbody tr th {\n",
       "        vertical-align: top;\n",
       "    }\n",
       "\n",
       "    .dataframe thead th {\n",
       "        text-align: right;\n",
       "    }\n",
       "</style>\n",
       "<table border=\"1\" class=\"dataframe\">\n",
       "  <thead>\n",
       "    <tr style=\"text-align: right;\">\n",
       "      <th></th>\n",
       "      <th>Balance_method</th>\n",
       "      <th>AUC</th>\n",
       "      <th>AUC_test</th>\n",
       "      <th>Time</th>\n",
       "    </tr>\n",
       "  </thead>\n",
       "  <tbody>\n",
       "    <tr>\n",
       "      <th>DummyClassifier</th>\n",
       "      <td>None</td>\n",
       "      <td>0.500076</td>\n",
       "      <td>0.500229</td>\n",
       "      <td>0.0</td>\n",
       "    </tr>\n",
       "    <tr>\n",
       "      <th>LogisticRegression</th>\n",
       "      <td>None</td>\n",
       "      <td>0.550622</td>\n",
       "      <td>0.550346</td>\n",
       "      <td>22.0</td>\n",
       "    </tr>\n",
       "    <tr>\n",
       "      <th>LogisticRegression</th>\n",
       "      <td>Undersampling</td>\n",
       "      <td>0.581259</td>\n",
       "      <td>0.587700</td>\n",
       "      <td>3.0</td>\n",
       "    </tr>\n",
       "    <tr>\n",
       "      <th>LogisticRegression</th>\n",
       "      <td>Oversampling</td>\n",
       "      <td>0.587605</td>\n",
       "      <td>0.602902</td>\n",
       "      <td>56.0</td>\n",
       "    </tr>\n",
       "    <tr>\n",
       "      <th>LogisticRegression</th>\n",
       "      <td>Class_weight=balanced</td>\n",
       "      <td>0.594089</td>\n",
       "      <td>0.589356</td>\n",
       "      <td>13.0</td>\n",
       "    </tr>\n",
       "    <tr>\n",
       "      <th>RandomForest</th>\n",
       "      <td>None</td>\n",
       "      <td>0.733212</td>\n",
       "      <td>0.738083</td>\n",
       "      <td>131.0</td>\n",
       "    </tr>\n",
       "    <tr>\n",
       "      <th>RandomForest</th>\n",
       "      <td>Undersampling</td>\n",
       "      <td>0.730992</td>\n",
       "      <td>0.733579</td>\n",
       "      <td>20.0</td>\n",
       "    </tr>\n",
       "    <tr>\n",
       "      <th>RandomForest</th>\n",
       "      <td>Oversampling</td>\n",
       "      <td>0.667845</td>\n",
       "      <td>0.662825</td>\n",
       "      <td>365.0</td>\n",
       "    </tr>\n",
       "    <tr>\n",
       "      <th>RandomForest</th>\n",
       "      <td>Class_weight=balanced</td>\n",
       "      <td>0.731832</td>\n",
       "      <td>0.734369</td>\n",
       "      <td>116.0</td>\n",
       "    </tr>\n",
       "  </tbody>\n",
       "</table>\n",
       "</div>"
      ],
      "text/plain": [
       "                           Balance_method       AUC  AUC_test   Time\n",
       "DummyClassifier                      None  0.500076  0.500229    0.0\n",
       "LogisticRegression                   None  0.550622  0.550346   22.0\n",
       "LogisticRegression          Undersampling  0.581259  0.587700    3.0\n",
       "LogisticRegression           Oversampling  0.587605  0.602902   56.0\n",
       "LogisticRegression  Class_weight=balanced  0.594089  0.589356   13.0\n",
       "RandomForest                         None  0.733212  0.738083  131.0\n",
       "RandomForest                Undersampling  0.730992  0.733579   20.0\n",
       "RandomForest                 Oversampling  0.667845  0.662825  365.0\n",
       "RandomForest        Class_weight=balanced  0.731832  0.734369  116.0"
      ]
     },
     "execution_count": 46,
     "metadata": {},
     "output_type": "execute_result"
    }
   ],
   "source": [
    "index += ['RandomForest']\n",
    "scores['Balance_method'].append('Class_weight=balanced')\n",
    "\n",
    "scores['AUC'].append(grid.best_score_)\n",
    "scores['AUC_test'].append(auc.mean()) \n",
    "scores['Time'].append(time2) \n",
    "\n",
    "df_scores = pd.DataFrame(scores, index=index)\n",
    "df_scores"
   ]
  },
  {
   "cell_type": "markdown",
   "id": "ba99074b",
   "metadata": {},
   "source": [
    "### d) XGboost Classifier"
   ]
  },
  {
   "cell_type": "markdown",
   "id": "b720f4a4",
   "metadata": {},
   "source": [
    "#### 1° XGB - Données Brutes"
   ]
  },
  {
   "cell_type": "code",
   "execution_count": 47,
   "id": "02ebca44",
   "metadata": {},
   "outputs": [
    {
     "name": "stdout",
     "output_type": "stream",
     "text": [
      "meilleur score :  0.7750796626065922\n",
      "meilleur paramètre :  {'max_depth': 3, 'n_estimators': 100}\n"
     ]
    }
   ],
   "source": [
    "param_grid = { \"n_estimators\" : [100], # number of trees in the forest\n",
    "                \"max_depth\" : [3, 5] }  # maximum depth of the tree\n",
    "\n",
    "grid = GS(XGBClassifier(objective='binary:logistic', eval_metric = 'auc'), param_grid, scoring='roc_auc', cv = 5)\n",
    "\n",
    "# Entraînement\n",
    "grid.fit(X_train, Y_train)\n",
    "print('meilleur score : ' , grid.best_score_)\n",
    "print('meilleur paramètre : ' , grid.best_params_)"
   ]
  },
  {
   "cell_type": "code",
   "execution_count": 48,
   "id": "e8121e0f",
   "metadata": {},
   "outputs": [
    {
     "data": {
      "text/html": [
       "<div>\n",
       "<style scoped>\n",
       "    .dataframe tbody tr th:only-of-type {\n",
       "        vertical-align: middle;\n",
       "    }\n",
       "\n",
       "    .dataframe tbody tr th {\n",
       "        vertical-align: top;\n",
       "    }\n",
       "\n",
       "    .dataframe thead th {\n",
       "        text-align: right;\n",
       "    }\n",
       "</style>\n",
       "<table border=\"1\" class=\"dataframe\">\n",
       "  <thead>\n",
       "    <tr style=\"text-align: right;\">\n",
       "      <th>Actual</th>\n",
       "      <th>0.0</th>\n",
       "      <th>1.0</th>\n",
       "    </tr>\n",
       "    <tr>\n",
       "      <th>Predicted</th>\n",
       "      <th></th>\n",
       "      <th></th>\n",
       "    </tr>\n",
       "  </thead>\n",
       "  <tbody>\n",
       "    <tr>\n",
       "      <th>0.0</th>\n",
       "      <td>25543</td>\n",
       "      <td>2200</td>\n",
       "    </tr>\n",
       "    <tr>\n",
       "      <th>1.0</th>\n",
       "      <td>134</td>\n",
       "      <td>16</td>\n",
       "    </tr>\n",
       "  </tbody>\n",
       "</table>\n",
       "</div>"
      ],
      "text/plain": [
       "Actual       0.0   1.0\n",
       "Predicted             \n",
       "0.0        25543  2200\n",
       "1.0          134    16"
      ]
     },
     "execution_count": 48,
     "metadata": {},
     "output_type": "execute_result"
    }
   ],
   "source": [
    "time1 = time.time()\n",
    "\n",
    "model = grid.best_estimator_\n",
    "model.fit(X_train, Y_train)\n",
    "\n",
    "# Prédiction sur le jeu de test\n",
    "Y_test_pred = model.predict(X_test)\n",
    "\n",
    "time2 = np.round(time.time() - time1,0)\n",
    "\n",
    "# Calcul AUC\n",
    "y_pred_proba = model.predict_proba(X_test)[:, 1]\n",
    "auc = roc_auc_score(Y_test, y_pred_proba)\n",
    "\n",
    "generate_crosstab()"
   ]
  },
  {
   "cell_type": "code",
   "execution_count": 49,
   "id": "ba1b39fd",
   "metadata": {
    "scrolled": false
   },
   "outputs": [
    {
     "data": {
      "image/png": "[encoded data removed]",
      "text/plain": [
       "<Figure size 600x400 with 1 Axes>"
      ]
     },
     "metadata": {},
     "output_type": "display_data"
    }
   ],
   "source": [
    "generate_auc_roc_curve(model, X_test)"
   ]
  },
  {
   "cell_type": "code",
   "execution_count": 50,
   "id": "513f79fb",
   "metadata": {
    "scrolled": false
   },
   "outputs": [
    {
     "data": {
      "text/html": [
       "<div>\n",
       "<style scoped>\n",
       "    .dataframe tbody tr th:only-of-type {\n",
       "        vertical-align: middle;\n",
       "    }\n",
       "\n",
       "    .dataframe tbody tr th {\n",
       "        vertical-align: top;\n",
       "    }\n",
       "\n",
       "    .dataframe thead th {\n",
       "        text-align: right;\n",
       "    }\n",
       "</style>\n",
       "<table border=\"1\" class=\"dataframe\">\n",
       "  <thead>\n",
       "    <tr style=\"text-align: right;\">\n",
       "      <th></th>\n",
       "      <th>Balance_method</th>\n",
       "      <th>AUC</th>\n",
       "      <th>AUC_test</th>\n",
       "      <th>Time</th>\n",
       "    </tr>\n",
       "  </thead>\n",
       "  <tbody>\n",
       "    <tr>\n",
       "      <th>DummyClassifier</th>\n",
       "      <td>None</td>\n",
       "      <td>0.500076</td>\n",
       "      <td>0.500229</td>\n",
       "      <td>0.0</td>\n",
       "    </tr>\n",
       "    <tr>\n",
       "      <th>LogisticRegression</th>\n",
       "      <td>None</td>\n",
       "      <td>0.550622</td>\n",
       "      <td>0.550346</td>\n",
       "      <td>22.0</td>\n",
       "    </tr>\n",
       "    <tr>\n",
       "      <th>LogisticRegression</th>\n",
       "      <td>Undersampling</td>\n",
       "      <td>0.581259</td>\n",
       "      <td>0.587700</td>\n",
       "      <td>3.0</td>\n",
       "    </tr>\n",
       "    <tr>\n",
       "      <th>LogisticRegression</th>\n",
       "      <td>Oversampling</td>\n",
       "      <td>0.587605</td>\n",
       "      <td>0.602902</td>\n",
       "      <td>56.0</td>\n",
       "    </tr>\n",
       "    <tr>\n",
       "      <th>LogisticRegression</th>\n",
       "      <td>Class_weight=balanced</td>\n",
       "      <td>0.594089</td>\n",
       "      <td>0.589356</td>\n",
       "      <td>13.0</td>\n",
       "    </tr>\n",
       "    <tr>\n",
       "      <th>RandomForest</th>\n",
       "      <td>None</td>\n",
       "      <td>0.733212</td>\n",
       "      <td>0.738083</td>\n",
       "      <td>131.0</td>\n",
       "    </tr>\n",
       "    <tr>\n",
       "      <th>RandomForest</th>\n",
       "      <td>Undersampling</td>\n",
       "      <td>0.730992</td>\n",
       "      <td>0.733579</td>\n",
       "      <td>20.0</td>\n",
       "    </tr>\n",
       "    <tr>\n",
       "      <th>RandomForest</th>\n",
       "      <td>Oversampling</td>\n",
       "      <td>0.667845</td>\n",
       "      <td>0.662825</td>\n",
       "      <td>365.0</td>\n",
       "    </tr>\n",
       "    <tr>\n",
       "      <th>RandomForest</th>\n",
       "      <td>Class_weight=balanced</td>\n",
       "      <td>0.731832</td>\n",
       "      <td>0.734369</td>\n",
       "      <td>116.0</td>\n",
       "    </tr>\n",
       "    <tr>\n",
       "      <th>XGBoost</th>\n",
       "      <td>None</td>\n",
       "      <td>0.775080</td>\n",
       "      <td>0.773103</td>\n",
       "      <td>125.0</td>\n",
       "    </tr>\n",
       "  </tbody>\n",
       "</table>\n",
       "</div>"
      ],
      "text/plain": [
       "                           Balance_method       AUC  AUC_test   Time\n",
       "DummyClassifier                      None  0.500076  0.500229    0.0\n",
       "LogisticRegression                   None  0.550622  0.550346   22.0\n",
       "LogisticRegression          Undersampling  0.581259  0.587700    3.0\n",
       "LogisticRegression           Oversampling  0.587605  0.602902   56.0\n",
       "LogisticRegression  Class_weight=balanced  0.594089  0.589356   13.0\n",
       "RandomForest                         None  0.733212  0.738083  131.0\n",
       "RandomForest                Undersampling  0.730992  0.733579   20.0\n",
       "RandomForest                 Oversampling  0.667845  0.662825  365.0\n",
       "RandomForest        Class_weight=balanced  0.731832  0.734369  116.0\n",
       "XGBoost                              None  0.775080  0.773103  125.0"
      ]
     },
     "execution_count": 50,
     "metadata": {},
     "output_type": "execute_result"
    }
   ],
   "source": [
    "index += ['XGBoost']\n",
    "scores['Balance_method'].append('None')\n",
    "\n",
    "scores['AUC'].append(grid.best_score_)\n",
    "scores['AUC_test'].append(auc.mean()) \n",
    "scores['Time'].append(time2) \n",
    "\n",
    "df_scores = pd.DataFrame(scores, index=index)\n",
    "df_scores"
   ]
  },
  {
   "cell_type": "markdown",
   "id": "ab215381",
   "metadata": {},
   "source": [
    "#### 2° XGB - Undersampling"
   ]
  },
  {
   "cell_type": "code",
   "execution_count": 51,
   "id": "296ef531",
   "metadata": {},
   "outputs": [
    {
     "name": "stdout",
     "output_type": "stream",
     "text": [
      "meilleur score :  0.7691174064193383\n",
      "meilleur paramètre :  {'classifier__max_depth': 3, 'classifier__n_estimators': 100}\n"
     ]
    }
   ],
   "source": [
    "model = Pipeline(steps = [['under', RandomUnderSampler()],\\\n",
    "                          ['classifier', XGBClassifier(objective='binary:logistic', eval_metric = 'auc')]])\n",
    "\n",
    "param_grid = { 'classifier__n_estimators' : [100], 'classifier__max_depth' : [3, 5] }   \n",
    "grid = GS(estimator = model, param_grid=param_grid, scoring='roc_auc', cv = 5, n_jobs=-1)\n",
    "\n",
    "# Entraînement\n",
    "grid.fit(X_train, Y_train)\n",
    "print('meilleur score : ' , grid.best_score_)\n",
    "print('meilleur paramètre : ' , grid.best_params_)"
   ]
  },
  {
   "cell_type": "code",
   "execution_count": 52,
   "id": "ed60c44a",
   "metadata": {},
   "outputs": [
    {
     "data": {
      "text/html": [
       "<div>\n",
       "<style scoped>\n",
       "    .dataframe tbody tr th:only-of-type {\n",
       "        vertical-align: middle;\n",
       "    }\n",
       "\n",
       "    .dataframe tbody tr th {\n",
       "        vertical-align: top;\n",
       "    }\n",
       "\n",
       "    .dataframe thead th {\n",
       "        text-align: right;\n",
       "    }\n",
       "</style>\n",
       "<table border=\"1\" class=\"dataframe\">\n",
       "  <thead>\n",
       "    <tr style=\"text-align: right;\">\n",
       "      <th>Actual</th>\n",
       "      <th>0.0</th>\n",
       "      <th>1.0</th>\n",
       "    </tr>\n",
       "    <tr>\n",
       "      <th>Predicted</th>\n",
       "      <th></th>\n",
       "      <th></th>\n",
       "    </tr>\n",
       "  </thead>\n",
       "  <tbody>\n",
       "    <tr>\n",
       "      <th>0.0</th>\n",
       "      <td>17184</td>\n",
       "      <td>1476</td>\n",
       "    </tr>\n",
       "    <tr>\n",
       "      <th>1.0</th>\n",
       "      <td>8493</td>\n",
       "      <td>740</td>\n",
       "    </tr>\n",
       "  </tbody>\n",
       "</table>\n",
       "</div>"
      ],
      "text/plain": [
       "Actual       0.0   1.0\n",
       "Predicted             \n",
       "0.0        17184  1476\n",
       "1.0         8493   740"
      ]
     },
     "execution_count": 52,
     "metadata": {},
     "output_type": "execute_result"
    }
   ],
   "source": [
    "time1 = time.time()\n",
    "\n",
    "model = grid.best_estimator_\n",
    "model.fit(X_train, Y_train)\n",
    "\n",
    "# Prédiction sur le jeu de test\n",
    "Y_test_pred = model.predict(X_test)\n",
    "\n",
    "time2 = np.round(time.time() - time1,0)\n",
    "\n",
    "# Calcul AUC\n",
    "y_pred_proba = model.predict_proba(X_test)[:, 1]\n",
    "auc = roc_auc_score(Y_test, y_pred_proba)\n",
    "\n",
    "generate_crosstab()"
   ]
  },
  {
   "cell_type": "code",
   "execution_count": 53,
   "id": "9a8a8743",
   "metadata": {
    "scrolled": false
   },
   "outputs": [
    {
     "data": {
      "image/png": "[encoded data removed]",
      "text/plain": [
       "<Figure size 600x400 with 1 Axes>"
      ]
     },
     "metadata": {},
     "output_type": "display_data"
    }
   ],
   "source": [
    "generate_auc_roc_curve(model, X_test)"
   ]
  },
  {
   "cell_type": "code",
   "execution_count": 54,
   "id": "c38f23ba",
   "metadata": {},
   "outputs": [
    {
     "data": {
      "text/html": [
       "<div>\n",
       "<style scoped>\n",
       "    .dataframe tbody tr th:only-of-type {\n",
       "        vertical-align: middle;\n",
       "    }\n",
       "\n",
       "    .dataframe tbody tr th {\n",
       "        vertical-align: top;\n",
       "    }\n",
       "\n",
       "    .dataframe thead th {\n",
       "        text-align: right;\n",
       "    }\n",
       "</style>\n",
       "<table border=\"1\" class=\"dataframe\">\n",
       "  <thead>\n",
       "    <tr style=\"text-align: right;\">\n",
       "      <th></th>\n",
       "      <th>Balance_method</th>\n",
       "      <th>AUC</th>\n",
       "      <th>AUC_test</th>\n",
       "      <th>Time</th>\n",
       "    </tr>\n",
       "  </thead>\n",
       "  <tbody>\n",
       "    <tr>\n",
       "      <th>DummyClassifier</th>\n",
       "      <td>None</td>\n",
       "      <td>0.500076</td>\n",
       "      <td>0.500229</td>\n",
       "      <td>0.0</td>\n",
       "    </tr>\n",
       "    <tr>\n",
       "      <th>LogisticRegression</th>\n",
       "      <td>None</td>\n",
       "      <td>0.550622</td>\n",
       "      <td>0.550346</td>\n",
       "      <td>22.0</td>\n",
       "    </tr>\n",
       "    <tr>\n",
       "      <th>LogisticRegression</th>\n",
       "      <td>Undersampling</td>\n",
       "      <td>0.581259</td>\n",
       "      <td>0.587700</td>\n",
       "      <td>3.0</td>\n",
       "    </tr>\n",
       "    <tr>\n",
       "      <th>LogisticRegression</th>\n",
       "      <td>Oversampling</td>\n",
       "      <td>0.587605</td>\n",
       "      <td>0.602902</td>\n",
       "      <td>56.0</td>\n",
       "    </tr>\n",
       "    <tr>\n",
       "      <th>LogisticRegression</th>\n",
       "      <td>Class_weight=balanced</td>\n",
       "      <td>0.594089</td>\n",
       "      <td>0.589356</td>\n",
       "      <td>13.0</td>\n",
       "    </tr>\n",
       "    <tr>\n",
       "      <th>RandomForest</th>\n",
       "      <td>None</td>\n",
       "      <td>0.733212</td>\n",
       "      <td>0.738083</td>\n",
       "      <td>131.0</td>\n",
       "    </tr>\n",
       "    <tr>\n",
       "      <th>RandomForest</th>\n",
       "      <td>Undersampling</td>\n",
       "      <td>0.730992</td>\n",
       "      <td>0.733579</td>\n",
       "      <td>20.0</td>\n",
       "    </tr>\n",
       "    <tr>\n",
       "      <th>RandomForest</th>\n",
       "      <td>Oversampling</td>\n",
       "      <td>0.667845</td>\n",
       "      <td>0.662825</td>\n",
       "      <td>365.0</td>\n",
       "    </tr>\n",
       "    <tr>\n",
       "      <th>RandomForest</th>\n",
       "      <td>Class_weight=balanced</td>\n",
       "      <td>0.731832</td>\n",
       "      <td>0.734369</td>\n",
       "      <td>116.0</td>\n",
       "    </tr>\n",
       "    <tr>\n",
       "      <th>XGBoost</th>\n",
       "      <td>None</td>\n",
       "      <td>0.775080</td>\n",
       "      <td>0.773103</td>\n",
       "      <td>125.0</td>\n",
       "    </tr>\n",
       "    <tr>\n",
       "      <th>XGBoost</th>\n",
       "      <td>Undersampling</td>\n",
       "      <td>0.769117</td>\n",
       "      <td>0.768238</td>\n",
       "      <td>24.0</td>\n",
       "    </tr>\n",
       "  </tbody>\n",
       "</table>\n",
       "</div>"
      ],
      "text/plain": [
       "                           Balance_method       AUC  AUC_test   Time\n",
       "DummyClassifier                      None  0.500076  0.500229    0.0\n",
       "LogisticRegression                   None  0.550622  0.550346   22.0\n",
       "LogisticRegression          Undersampling  0.581259  0.587700    3.0\n",
       "LogisticRegression           Oversampling  0.587605  0.602902   56.0\n",
       "LogisticRegression  Class_weight=balanced  0.594089  0.589356   13.0\n",
       "RandomForest                         None  0.733212  0.738083  131.0\n",
       "RandomForest                Undersampling  0.730992  0.733579   20.0\n",
       "RandomForest                 Oversampling  0.667845  0.662825  365.0\n",
       "RandomForest        Class_weight=balanced  0.731832  0.734369  116.0\n",
       "XGBoost                              None  0.775080  0.773103  125.0\n",
       "XGBoost                     Undersampling  0.769117  0.768238   24.0"
      ]
     },
     "execution_count": 54,
     "metadata": {},
     "output_type": "execute_result"
    }
   ],
   "source": [
    "index += ['XGBoost']\n",
    "scores['Balance_method'].append('Undersampling')\n",
    "\n",
    "scores['AUC'].append(grid.best_score_)\n",
    "scores['AUC_test'].append(auc.mean()) \n",
    "scores['Time'].append(time2) \n",
    "\n",
    "df_scores = pd.DataFrame(scores, index=index)\n",
    "df_scores"
   ]
  },
  {
   "cell_type": "markdown",
   "id": "cf15e9f1",
   "metadata": {},
   "source": [
    "#### 3° XGB - Oversampling"
   ]
  },
  {
   "cell_type": "code",
   "execution_count": 55,
   "id": "ecb0bffa",
   "metadata": {},
   "outputs": [
    {
     "name": "stdout",
     "output_type": "stream",
     "text": [
      "meilleur score :  0.7634098119411161\n",
      "meilleur paramètre :  {'classifier__max_depth': 3, 'classifier__n_estimators': 100}\n"
     ]
    }
   ],
   "source": [
    "model = Pipeline(steps = [['smote', SMOTE(random_state=11)],\\\n",
    "                          ['classifier', XGBClassifier(objective='binary:logistic', eval_metric = 'auc')]])\n",
    "\n",
    "# réutilisation des meilleurs paramètres obtenus avec les 2 modélisations XGBoost précédentes\n",
    "param_grid = { 'classifier__n_estimators' : [100], 'classifier__max_depth' : [3] }   \n",
    "grid = GS(estimator = model, param_grid=param_grid, scoring='roc_auc', cv = 5, n_jobs=-1)\n",
    "\n",
    "# Entraînement\n",
    "grid.fit(X_train, Y_train)\n",
    "print('meilleur score : ' , grid.best_score_)\n",
    "print('meilleur paramètre : ' , grid.best_params_)"
   ]
  },
  {
   "cell_type": "code",
   "execution_count": 56,
   "id": "d2e54858",
   "metadata": {},
   "outputs": [
    {
     "data": {
      "text/html": [
       "<div>\n",
       "<style scoped>\n",
       "    .dataframe tbody tr th:only-of-type {\n",
       "        vertical-align: middle;\n",
       "    }\n",
       "\n",
       "    .dataframe tbody tr th {\n",
       "        vertical-align: top;\n",
       "    }\n",
       "\n",
       "    .dataframe thead th {\n",
       "        text-align: right;\n",
       "    }\n",
       "</style>\n",
       "<table border=\"1\" class=\"dataframe\">\n",
       "  <thead>\n",
       "    <tr style=\"text-align: right;\">\n",
       "      <th>Actual</th>\n",
       "      <th>0.0</th>\n",
       "      <th>1.0</th>\n",
       "    </tr>\n",
       "    <tr>\n",
       "      <th>Predicted</th>\n",
       "      <th></th>\n",
       "      <th></th>\n",
       "    </tr>\n",
       "  </thead>\n",
       "  <tbody>\n",
       "    <tr>\n",
       "      <th>0.0</th>\n",
       "      <td>25550</td>\n",
       "      <td>2205</td>\n",
       "    </tr>\n",
       "    <tr>\n",
       "      <th>1.0</th>\n",
       "      <td>127</td>\n",
       "      <td>11</td>\n",
       "    </tr>\n",
       "  </tbody>\n",
       "</table>\n",
       "</div>"
      ],
      "text/plain": [
       "Actual       0.0   1.0\n",
       "Predicted             \n",
       "0.0        25550  2205\n",
       "1.0          127    11"
      ]
     },
     "execution_count": 56,
     "metadata": {},
     "output_type": "execute_result"
    }
   ],
   "source": [
    "time1 = time.time()\n",
    "\n",
    "model = grid.best_estimator_\n",
    "model.fit(X_train, Y_train)\n",
    "\n",
    "# Prédiction sur le jeu de test\n",
    "Y_test_pred = model.predict(X_test)\n",
    "\n",
    "time2 = np.round(time.time() - time1,0)\n",
    "\n",
    "# Calcul AUC\n",
    "y_pred_proba = model.predict_proba(X_test)[:, 1]\n",
    "auc = roc_auc_score(Y_test, y_pred_proba)\n",
    "\n",
    "generate_crosstab()"
   ]
  },
  {
   "cell_type": "code",
   "execution_count": 57,
   "id": "160806c8",
   "metadata": {
    "scrolled": false
   },
   "outputs": [
    {
     "data": {
      "image/png": "[encoded data removed]",
      "text/plain": [
       "<Figure size 600x400 with 1 Axes>"
      ]
     },
     "metadata": {},
     "output_type": "display_data"
    }
   ],
   "source": [
    "generate_auc_roc_curve(model, X_test)"
   ]
  },
  {
   "cell_type": "code",
   "execution_count": 58,
   "id": "418b82df",
   "metadata": {},
   "outputs": [
    {
     "data": {
      "text/html": [
       "<div>\n",
       "<style scoped>\n",
       "    .dataframe tbody tr th:only-of-type {\n",
       "        vertical-align: middle;\n",
       "    }\n",
       "\n",
       "    .dataframe tbody tr th {\n",
       "        vertical-align: top;\n",
       "    }\n",
       "\n",
       "    .dataframe thead th {\n",
       "        text-align: right;\n",
       "    }\n",
       "</style>\n",
       "<table border=\"1\" class=\"dataframe\">\n",
       "  <thead>\n",
       "    <tr style=\"text-align: right;\">\n",
       "      <th></th>\n",
       "      <th>Balance_method</th>\n",
       "      <th>AUC</th>\n",
       "      <th>AUC_test</th>\n",
       "      <th>Time</th>\n",
       "    </tr>\n",
       "  </thead>\n",
       "  <tbody>\n",
       "    <tr>\n",
       "      <th>DummyClassifier</th>\n",
       "      <td>None</td>\n",
       "      <td>0.500076</td>\n",
       "      <td>0.500229</td>\n",
       "      <td>0.0</td>\n",
       "    </tr>\n",
       "    <tr>\n",
       "      <th>LogisticRegression</th>\n",
       "      <td>None</td>\n",
       "      <td>0.550622</td>\n",
       "      <td>0.550346</td>\n",
       "      <td>22.0</td>\n",
       "    </tr>\n",
       "    <tr>\n",
       "      <th>LogisticRegression</th>\n",
       "      <td>Undersampling</td>\n",
       "      <td>0.581259</td>\n",
       "      <td>0.587700</td>\n",
       "      <td>3.0</td>\n",
       "    </tr>\n",
       "    <tr>\n",
       "      <th>LogisticRegression</th>\n",
       "      <td>Oversampling</td>\n",
       "      <td>0.587605</td>\n",
       "      <td>0.602902</td>\n",
       "      <td>56.0</td>\n",
       "    </tr>\n",
       "    <tr>\n",
       "      <th>LogisticRegression</th>\n",
       "      <td>Class_weight=balanced</td>\n",
       "      <td>0.594089</td>\n",
       "      <td>0.589356</td>\n",
       "      <td>13.0</td>\n",
       "    </tr>\n",
       "    <tr>\n",
       "      <th>RandomForest</th>\n",
       "      <td>None</td>\n",
       "      <td>0.733212</td>\n",
       "      <td>0.738083</td>\n",
       "      <td>131.0</td>\n",
       "    </tr>\n",
       "    <tr>\n",
       "      <th>RandomForest</th>\n",
       "      <td>Undersampling</td>\n",
       "      <td>0.730992</td>\n",
       "      <td>0.733579</td>\n",
       "      <td>20.0</td>\n",
       "    </tr>\n",
       "    <tr>\n",
       "      <th>RandomForest</th>\n",
       "      <td>Oversampling</td>\n",
       "      <td>0.667845</td>\n",
       "      <td>0.662825</td>\n",
       "      <td>365.0</td>\n",
       "    </tr>\n",
       "    <tr>\n",
       "      <th>RandomForest</th>\n",
       "      <td>Class_weight=balanced</td>\n",
       "      <td>0.731832</td>\n",
       "      <td>0.734369</td>\n",
       "      <td>116.0</td>\n",
       "    </tr>\n",
       "    <tr>\n",
       "      <th>XGBoost</th>\n",
       "      <td>None</td>\n",
       "      <td>0.775080</td>\n",
       "      <td>0.773103</td>\n",
       "      <td>125.0</td>\n",
       "    </tr>\n",
       "    <tr>\n",
       "      <th>XGBoost</th>\n",
       "      <td>Undersampling</td>\n",
       "      <td>0.769117</td>\n",
       "      <td>0.768238</td>\n",
       "      <td>24.0</td>\n",
       "    </tr>\n",
       "    <tr>\n",
       "      <th>XGBoost</th>\n",
       "      <td>Oversampling</td>\n",
       "      <td>0.763410</td>\n",
       "      <td>0.763077</td>\n",
       "      <td>197.0</td>\n",
       "    </tr>\n",
       "  </tbody>\n",
       "</table>\n",
       "</div>"
      ],
      "text/plain": [
       "                           Balance_method       AUC  AUC_test   Time\n",
       "DummyClassifier                      None  0.500076  0.500229    0.0\n",
       "LogisticRegression                   None  0.550622  0.550346   22.0\n",
       "LogisticRegression          Undersampling  0.581259  0.587700    3.0\n",
       "LogisticRegression           Oversampling  0.587605  0.602902   56.0\n",
       "LogisticRegression  Class_weight=balanced  0.594089  0.589356   13.0\n",
       "RandomForest                         None  0.733212  0.738083  131.0\n",
       "RandomForest                Undersampling  0.730992  0.733579   20.0\n",
       "RandomForest                 Oversampling  0.667845  0.662825  365.0\n",
       "RandomForest        Class_weight=balanced  0.731832  0.734369  116.0\n",
       "XGBoost                              None  0.775080  0.773103  125.0\n",
       "XGBoost                     Undersampling  0.769117  0.768238   24.0\n",
       "XGBoost                      Oversampling  0.763410  0.763077  197.0"
      ]
     },
     "execution_count": 58,
     "metadata": {},
     "output_type": "execute_result"
    }
   ],
   "source": [
    "index += ['XGBoost']\n",
    "scores['Balance_method'].append('Oversampling')\n",
    "\n",
    "scores['AUC'].append(grid.best_score_)\n",
    "scores['AUC_test'].append(auc.mean()) \n",
    "scores['Time'].append(time2) \n",
    "\n",
    "df_scores = pd.DataFrame(scores, index=index)\n",
    "df_scores"
   ]
  },
  {
   "cell_type": "markdown",
   "id": "d67e1bed",
   "metadata": {},
   "source": [
    "#### 4° XGB - Class_weight = Balanced"
   ]
  },
  {
   "cell_type": "code",
   "execution_count": 59,
   "id": "c771a3e2",
   "metadata": {},
   "outputs": [
    {
     "data": {
      "text/plain": [
       "0.0    197835\n",
       "1.0     17419\n",
       "Name: TARGET, dtype: int64"
      ]
     },
     "execution_count": 59,
     "metadata": {},
     "output_type": "execute_result"
    }
   ],
   "source": [
    "Y_train['TARGET'].value_counts()"
   ]
  },
  {
   "cell_type": "code",
   "execution_count": 60,
   "id": "955e7fb4",
   "metadata": {},
   "outputs": [
    {
     "data": {
      "text/plain": [
       "11.357425799414433"
      ]
     },
     "execution_count": 60,
     "metadata": {},
     "output_type": "execute_result"
    }
   ],
   "source": [
    "# scale_pos_weight= sum(negative instances) / sum(positive instances)\n",
    "\n",
    "spw = 197835/17419\n",
    "spw"
   ]
  },
  {
   "cell_type": "code",
   "execution_count": 61,
   "id": "9c42dc2a",
   "metadata": {},
   "outputs": [
    {
     "name": "stdout",
     "output_type": "stream",
     "text": [
      "meilleur score :  0.7726829521362563\n",
      "meilleur paramètre :  {'max_depth': 3, 'n_estimators': 100}\n"
     ]
    }
   ],
   "source": [
    "# réutilisation des meilleurs paramètres obtenus avec les 2 modélisations XGBoost précédentes\n",
    "param_grid = { \"n_estimators\" : [100], \"max_depth\" : [3]}  # maximum depth of the tree                \n",
    "\n",
    "grid = GS(XGBClassifier(objective='binary:logistic', eval_metric = 'auc', scale_pos_weight = spw),\\\n",
    "          param_grid, scoring='roc_auc', cv = 5)\n",
    "\n",
    "# Entraînement\n",
    "grid.fit(X_train, Y_train)\n",
    "print('meilleur score : ' , grid.best_score_)\n",
    "print('meilleur paramètre : ' , grid.best_params_)"
   ]
  },
  {
   "cell_type": "code",
   "execution_count": 62,
   "id": "5c310957",
   "metadata": {},
   "outputs": [
    {
     "data": {
      "text/html": [
       "<div>\n",
       "<style scoped>\n",
       "    .dataframe tbody tr th:only-of-type {\n",
       "        vertical-align: middle;\n",
       "    }\n",
       "\n",
       "    .dataframe tbody tr th {\n",
       "        vertical-align: top;\n",
       "    }\n",
       "\n",
       "    .dataframe thead th {\n",
       "        text-align: right;\n",
       "    }\n",
       "</style>\n",
       "<table border=\"1\" class=\"dataframe\">\n",
       "  <thead>\n",
       "    <tr style=\"text-align: right;\">\n",
       "      <th>Actual</th>\n",
       "      <th>0.0</th>\n",
       "      <th>1.0</th>\n",
       "    </tr>\n",
       "    <tr>\n",
       "      <th>Predicted</th>\n",
       "      <th></th>\n",
       "      <th></th>\n",
       "    </tr>\n",
       "  </thead>\n",
       "  <tbody>\n",
       "    <tr>\n",
       "      <th>0.0</th>\n",
       "      <td>17621</td>\n",
       "      <td>1516</td>\n",
       "    </tr>\n",
       "    <tr>\n",
       "      <th>1.0</th>\n",
       "      <td>8056</td>\n",
       "      <td>700</td>\n",
       "    </tr>\n",
       "  </tbody>\n",
       "</table>\n",
       "</div>"
      ],
      "text/plain": [
       "Actual       0.0   1.0\n",
       "Predicted             \n",
       "0.0        17621  1516\n",
       "1.0         8056   700"
      ]
     },
     "execution_count": 62,
     "metadata": {},
     "output_type": "execute_result"
    }
   ],
   "source": [
    "time1 = time.time()\n",
    "\n",
    "model = grid.best_estimator_\n",
    "model.fit(X_train, Y_train)\n",
    "\n",
    "# Prédiction sur le jeu de test\n",
    "Y_test_pred = model.predict(X_test)\n",
    "\n",
    "time2 = np.round(time.time() - time1,0)\n",
    "\n",
    "# Calcul AUC\n",
    "y_pred_proba = model.predict_proba(X_test)[:, 1]\n",
    "auc = roc_auc_score(Y_test, y_pred_proba)\n",
    "\n",
    "generate_crosstab()"
   ]
  },
  {
   "cell_type": "code",
   "execution_count": 63,
   "id": "80784dd5",
   "metadata": {
    "scrolled": false
   },
   "outputs": [
    {
     "data": {
      "image/png": "[encoded data removed]",
      "text/plain": [
       "<Figure size 600x400 with 1 Axes>"
      ]
     },
     "metadata": {},
     "output_type": "display_data"
    }
   ],
   "source": [
    "generate_auc_roc_curve(model, X_test)"
   ]
  },
  {
   "cell_type": "code",
   "execution_count": 64,
   "id": "c5502134",
   "metadata": {
    "scrolled": false
   },
   "outputs": [
    {
     "data": {
      "text/html": [
       "<div>\n",
       "<style scoped>\n",
       "    .dataframe tbody tr th:only-of-type {\n",
       "        vertical-align: middle;\n",
       "    }\n",
       "\n",
       "    .dataframe tbody tr th {\n",
       "        vertical-align: top;\n",
       "    }\n",
       "\n",
       "    .dataframe thead th {\n",
       "        text-align: right;\n",
       "    }\n",
       "</style>\n",
       "<table border=\"1\" class=\"dataframe\">\n",
       "  <thead>\n",
       "    <tr style=\"text-align: right;\">\n",
       "      <th></th>\n",
       "      <th>Balance_method</th>\n",
       "      <th>AUC</th>\n",
       "      <th>AUC_test</th>\n",
       "      <th>Time</th>\n",
       "    </tr>\n",
       "  </thead>\n",
       "  <tbody>\n",
       "    <tr>\n",
       "      <th>DummyClassifier</th>\n",
       "      <td>None</td>\n",
       "      <td>0.500076</td>\n",
       "      <td>0.500229</td>\n",
       "      <td>0.0</td>\n",
       "    </tr>\n",
       "    <tr>\n",
       "      <th>LogisticRegression</th>\n",
       "      <td>None</td>\n",
       "      <td>0.550622</td>\n",
       "      <td>0.550346</td>\n",
       "      <td>22.0</td>\n",
       "    </tr>\n",
       "    <tr>\n",
       "      <th>LogisticRegression</th>\n",
       "      <td>Undersampling</td>\n",
       "      <td>0.581259</td>\n",
       "      <td>0.587700</td>\n",
       "      <td>3.0</td>\n",
       "    </tr>\n",
       "    <tr>\n",
       "      <th>LogisticRegression</th>\n",
       "      <td>Oversampling</td>\n",
       "      <td>0.587605</td>\n",
       "      <td>0.602902</td>\n",
       "      <td>56.0</td>\n",
       "    </tr>\n",
       "    <tr>\n",
       "      <th>LogisticRegression</th>\n",
       "      <td>Class_weight=balanced</td>\n",
       "      <td>0.594089</td>\n",
       "      <td>0.589356</td>\n",
       "      <td>13.0</td>\n",
       "    </tr>\n",
       "    <tr>\n",
       "      <th>RandomForest</th>\n",
       "      <td>None</td>\n",
       "      <td>0.733212</td>\n",
       "      <td>0.738083</td>\n",
       "      <td>131.0</td>\n",
       "    </tr>\n",
       "    <tr>\n",
       "      <th>RandomForest</th>\n",
       "      <td>Undersampling</td>\n",
       "      <td>0.730992</td>\n",
       "      <td>0.733579</td>\n",
       "      <td>20.0</td>\n",
       "    </tr>\n",
       "    <tr>\n",
       "      <th>RandomForest</th>\n",
       "      <td>Oversampling</td>\n",
       "      <td>0.667845</td>\n",
       "      <td>0.662825</td>\n",
       "      <td>365.0</td>\n",
       "    </tr>\n",
       "    <tr>\n",
       "      <th>RandomForest</th>\n",
       "      <td>Class_weight=balanced</td>\n",
       "      <td>0.731832</td>\n",
       "      <td>0.734369</td>\n",
       "      <td>116.0</td>\n",
       "    </tr>\n",
       "    <tr>\n",
       "      <th>XGBoost</th>\n",
       "      <td>None</td>\n",
       "      <td>0.775080</td>\n",
       "      <td>0.773103</td>\n",
       "      <td>125.0</td>\n",
       "    </tr>\n",
       "    <tr>\n",
       "      <th>XGBoost</th>\n",
       "      <td>Undersampling</td>\n",
       "      <td>0.769117</td>\n",
       "      <td>0.768238</td>\n",
       "      <td>24.0</td>\n",
       "    </tr>\n",
       "    <tr>\n",
       "      <th>XGBoost</th>\n",
       "      <td>Oversampling</td>\n",
       "      <td>0.763410</td>\n",
       "      <td>0.763077</td>\n",
       "      <td>197.0</td>\n",
       "    </tr>\n",
       "    <tr>\n",
       "      <th>XGBoost</th>\n",
       "      <td>Class_weight=balanced</td>\n",
       "      <td>0.772683</td>\n",
       "      <td>0.772244</td>\n",
       "      <td>70.0</td>\n",
       "    </tr>\n",
       "  </tbody>\n",
       "</table>\n",
       "</div>"
      ],
      "text/plain": [
       "                           Balance_method       AUC  AUC_test   Time\n",
       "DummyClassifier                      None  0.500076  0.500229    0.0\n",
       "LogisticRegression                   None  0.550622  0.550346   22.0\n",
       "LogisticRegression          Undersampling  0.581259  0.587700    3.0\n",
       "LogisticRegression           Oversampling  0.587605  0.602902   56.0\n",
       "LogisticRegression  Class_weight=balanced  0.594089  0.589356   13.0\n",
       "RandomForest                         None  0.733212  0.738083  131.0\n",
       "RandomForest                Undersampling  0.730992  0.733579   20.0\n",
       "RandomForest                 Oversampling  0.667845  0.662825  365.0\n",
       "RandomForest        Class_weight=balanced  0.731832  0.734369  116.0\n",
       "XGBoost                              None  0.775080  0.773103  125.0\n",
       "XGBoost                     Undersampling  0.769117  0.768238   24.0\n",
       "XGBoost                      Oversampling  0.763410  0.763077  197.0\n",
       "XGBoost             Class_weight=balanced  0.772683  0.772244   70.0"
      ]
     },
     "execution_count": 64,
     "metadata": {},
     "output_type": "execute_result"
    }
   ],
   "source": [
    "index += ['XGBoost']\n",
    "scores['Balance_method'].append('Class_weight=balanced')\n",
    "\n",
    "scores['AUC'].append(grid.best_score_)\n",
    "scores['AUC_test'].append(auc.mean()) \n",
    "scores['Time'].append(time2) \n",
    "\n",
    "df_scores = pd.DataFrame(scores, index=index)\n",
    "df_scores"
   ]
  },
  {
   "cell_type": "markdown",
   "id": "7431aae6",
   "metadata": {},
   "source": [
    "### e) LightGBM - LGBMClassifier"
   ]
  },
  {
   "cell_type": "markdown",
   "id": "185c85b4",
   "metadata": {},
   "source": [
    "#### 1° LGBMC - Données Brutes"
   ]
  },
  {
   "cell_type": "code",
   "execution_count": 65,
   "id": "69effc98",
   "metadata": {},
   "outputs": [
    {
     "name": "stdout",
     "output_type": "stream",
     "text": [
      "meilleur score :  0.7795089088334892\n",
      "meilleur paramètre :  {'max_depth': 3, 'n_estimators': 500}\n"
     ]
    }
   ],
   "source": [
    "param_grid = { \"n_estimators\" : [500], # number of trees in the forest\n",
    "                \"max_depth\" : [3, 5] }  # maximum depth of the tree\n",
    "\n",
    "grid = GS(LGBMClassifier(), param_grid, scoring='roc_auc', cv = 5)\n",
    "\n",
    "# Entraînement\n",
    "grid.fit(X_train, Y_train)\n",
    "print('meilleur score : ' , grid.best_score_)\n",
    "print('meilleur paramètre : ' , grid.best_params_)"
   ]
  },
  {
   "cell_type": "code",
   "execution_count": 66,
   "id": "94cf9b29",
   "metadata": {},
   "outputs": [
    {
     "data": {
      "text/html": [
       "<div>\n",
       "<style scoped>\n",
       "    .dataframe tbody tr th:only-of-type {\n",
       "        vertical-align: middle;\n",
       "    }\n",
       "\n",
       "    .dataframe tbody tr th {\n",
       "        vertical-align: top;\n",
       "    }\n",
       "\n",
       "    .dataframe thead th {\n",
       "        text-align: right;\n",
       "    }\n",
       "</style>\n",
       "<table border=\"1\" class=\"dataframe\">\n",
       "  <thead>\n",
       "    <tr style=\"text-align: right;\">\n",
       "      <th>Actual</th>\n",
       "      <th>0.0</th>\n",
       "      <th>1.0</th>\n",
       "    </tr>\n",
       "    <tr>\n",
       "      <th>Predicted</th>\n",
       "      <th></th>\n",
       "      <th></th>\n",
       "    </tr>\n",
       "  </thead>\n",
       "  <tbody>\n",
       "    <tr>\n",
       "      <th>0.0</th>\n",
       "      <td>25533</td>\n",
       "      <td>2199</td>\n",
       "    </tr>\n",
       "    <tr>\n",
       "      <th>1.0</th>\n",
       "      <td>144</td>\n",
       "      <td>17</td>\n",
       "    </tr>\n",
       "  </tbody>\n",
       "</table>\n",
       "</div>"
      ],
      "text/plain": [
       "Actual       0.0   1.0\n",
       "Predicted             \n",
       "0.0        25533  2199\n",
       "1.0          144    17"
      ]
     },
     "execution_count": 66,
     "metadata": {},
     "output_type": "execute_result"
    }
   ],
   "source": [
    "time1 = time.time()\n",
    "\n",
    "model = grid.best_estimator_\n",
    "model.fit(X_train, Y_train)\n",
    "\n",
    "# Prédiction sur le jeu de test\n",
    "Y_test_pred = model.predict(X_test)\n",
    "\n",
    "time2 = np.round(time.time() - time1,0)\n",
    "\n",
    "# Calcul AUC\n",
    "y_pred_proba = model.predict_proba(X_test)[:, 1]\n",
    "auc = roc_auc_score(Y_test, y_pred_proba)\n",
    "\n",
    "generate_crosstab()"
   ]
  },
  {
   "cell_type": "code",
   "execution_count": 67,
   "id": "7d35f46d",
   "metadata": {
    "scrolled": false
   },
   "outputs": [
    {
     "data": {
      "image/png": "[encoded data removed]",
      "text/plain": [
       "<Figure size 600x400 with 1 Axes>"
      ]
     },
     "metadata": {},
     "output_type": "display_data"
    }
   ],
   "source": [
    "generate_auc_roc_curve(model, X_test)"
   ]
  },
  {
   "cell_type": "code",
   "execution_count": 68,
   "id": "edc8801b",
   "metadata": {
    "scrolled": false
   },
   "outputs": [
    {
     "data": {
      "text/html": [
       "<div>\n",
       "<style scoped>\n",
       "    .dataframe tbody tr th:only-of-type {\n",
       "        vertical-align: middle;\n",
       "    }\n",
       "\n",
       "    .dataframe tbody tr th {\n",
       "        vertical-align: top;\n",
       "    }\n",
       "\n",
       "    .dataframe thead th {\n",
       "        text-align: right;\n",
       "    }\n",
       "</style>\n",
       "<table border=\"1\" class=\"dataframe\">\n",
       "  <thead>\n",
       "    <tr style=\"text-align: right;\">\n",
       "      <th></th>\n",
       "      <th>Balance_method</th>\n",
       "      <th>AUC</th>\n",
       "      <th>AUC_test</th>\n",
       "      <th>Time</th>\n",
       "    </tr>\n",
       "  </thead>\n",
       "  <tbody>\n",
       "    <tr>\n",
       "      <th>DummyClassifier</th>\n",
       "      <td>None</td>\n",
       "      <td>0.500076</td>\n",
       "      <td>0.500229</td>\n",
       "      <td>0.0</td>\n",
       "    </tr>\n",
       "    <tr>\n",
       "      <th>LogisticRegression</th>\n",
       "      <td>None</td>\n",
       "      <td>0.550622</td>\n",
       "      <td>0.550346</td>\n",
       "      <td>22.0</td>\n",
       "    </tr>\n",
       "    <tr>\n",
       "      <th>LogisticRegression</th>\n",
       "      <td>Undersampling</td>\n",
       "      <td>0.581259</td>\n",
       "      <td>0.587700</td>\n",
       "      <td>3.0</td>\n",
       "    </tr>\n",
       "    <tr>\n",
       "      <th>LogisticRegression</th>\n",
       "      <td>Oversampling</td>\n",
       "      <td>0.587605</td>\n",
       "      <td>0.602902</td>\n",
       "      <td>56.0</td>\n",
       "    </tr>\n",
       "    <tr>\n",
       "      <th>LogisticRegression</th>\n",
       "      <td>Class_weight=balanced</td>\n",
       "      <td>0.594089</td>\n",
       "      <td>0.589356</td>\n",
       "      <td>13.0</td>\n",
       "    </tr>\n",
       "    <tr>\n",
       "      <th>RandomForest</th>\n",
       "      <td>None</td>\n",
       "      <td>0.733212</td>\n",
       "      <td>0.738083</td>\n",
       "      <td>131.0</td>\n",
       "    </tr>\n",
       "    <tr>\n",
       "      <th>RandomForest</th>\n",
       "      <td>Undersampling</td>\n",
       "      <td>0.730992</td>\n",
       "      <td>0.733579</td>\n",
       "      <td>20.0</td>\n",
       "    </tr>\n",
       "    <tr>\n",
       "      <th>RandomForest</th>\n",
       "      <td>Oversampling</td>\n",
       "      <td>0.667845</td>\n",
       "      <td>0.662825</td>\n",
       "      <td>365.0</td>\n",
       "    </tr>\n",
       "    <tr>\n",
       "      <th>RandomForest</th>\n",
       "      <td>Class_weight=balanced</td>\n",
       "      <td>0.731832</td>\n",
       "      <td>0.734369</td>\n",
       "      <td>116.0</td>\n",
       "    </tr>\n",
       "    <tr>\n",
       "      <th>XGBoost</th>\n",
       "      <td>None</td>\n",
       "      <td>0.775080</td>\n",
       "      <td>0.773103</td>\n",
       "      <td>125.0</td>\n",
       "    </tr>\n",
       "    <tr>\n",
       "      <th>XGBoost</th>\n",
       "      <td>Undersampling</td>\n",
       "      <td>0.769117</td>\n",
       "      <td>0.768238</td>\n",
       "      <td>24.0</td>\n",
       "    </tr>\n",
       "    <tr>\n",
       "      <th>XGBoost</th>\n",
       "      <td>Oversampling</td>\n",
       "      <td>0.763410</td>\n",
       "      <td>0.763077</td>\n",
       "      <td>197.0</td>\n",
       "    </tr>\n",
       "    <tr>\n",
       "      <th>XGBoost</th>\n",
       "      <td>Class_weight=balanced</td>\n",
       "      <td>0.772683</td>\n",
       "      <td>0.772244</td>\n",
       "      <td>70.0</td>\n",
       "    </tr>\n",
       "    <tr>\n",
       "      <th>LGBMC</th>\n",
       "      <td>None</td>\n",
       "      <td>0.779509</td>\n",
       "      <td>0.777898</td>\n",
       "      <td>20.0</td>\n",
       "    </tr>\n",
       "  </tbody>\n",
       "</table>\n",
       "</div>"
      ],
      "text/plain": [
       "                           Balance_method       AUC  AUC_test   Time\n",
       "DummyClassifier                      None  0.500076  0.500229    0.0\n",
       "LogisticRegression                   None  0.550622  0.550346   22.0\n",
       "LogisticRegression          Undersampling  0.581259  0.587700    3.0\n",
       "LogisticRegression           Oversampling  0.587605  0.602902   56.0\n",
       "LogisticRegression  Class_weight=balanced  0.594089  0.589356   13.0\n",
       "RandomForest                         None  0.733212  0.738083  131.0\n",
       "RandomForest                Undersampling  0.730992  0.733579   20.0\n",
       "RandomForest                 Oversampling  0.667845  0.662825  365.0\n",
       "RandomForest        Class_weight=balanced  0.731832  0.734369  116.0\n",
       "XGBoost                              None  0.775080  0.773103  125.0\n",
       "XGBoost                     Undersampling  0.769117  0.768238   24.0\n",
       "XGBoost                      Oversampling  0.763410  0.763077  197.0\n",
       "XGBoost             Class_weight=balanced  0.772683  0.772244   70.0\n",
       "LGBMC                                None  0.779509  0.777898   20.0"
      ]
     },
     "execution_count": 68,
     "metadata": {},
     "output_type": "execute_result"
    }
   ],
   "source": [
    "index += ['LGBMC']\n",
    "scores['Balance_method'].append('None')\n",
    "\n",
    "scores['AUC'].append(grid.best_score_)\n",
    "scores['AUC_test'].append(auc.mean()) \n",
    "scores['Time'].append(time2) \n",
    "\n",
    "df_scores = pd.DataFrame(scores, index=index)\n",
    "df_scores"
   ]
  },
  {
   "cell_type": "markdown",
   "id": "b6128a30",
   "metadata": {},
   "source": [
    "#### 2° LGBMC - Undersampling"
   ]
  },
  {
   "cell_type": "code",
   "execution_count": 69,
   "id": "ddae5fb7",
   "metadata": {},
   "outputs": [
    {
     "name": "stdout",
     "output_type": "stream",
     "text": [
      "meilleur score :  0.7740087776363925\n",
      "meilleur paramètre :  {'classifier__max_depth': 3, 'classifier__n_estimators': 500}\n"
     ]
    }
   ],
   "source": [
    "model = Pipeline(steps = [['under', RandomUnderSampler()], ['classifier', LGBMClassifier()]])\n",
    "\n",
    "param_grid = { 'classifier__n_estimators' : [500], 'classifier__max_depth' : [3, 5] }   \n",
    "grid = GS(estimator = model, param_grid=param_grid, scoring='roc_auc', cv = 5, n_jobs=-1)\n",
    "\n",
    "# Entraînement\n",
    "grid.fit(X_train, Y_train)\n",
    "print('meilleur score : ' , grid.best_score_)\n",
    "print('meilleur paramètre : ' , grid.best_params_)"
   ]
  },
  {
   "cell_type": "code",
   "execution_count": 70,
   "id": "5ceae7de",
   "metadata": {},
   "outputs": [
    {
     "data": {
      "text/html": [
       "<div>\n",
       "<style scoped>\n",
       "    .dataframe tbody tr th:only-of-type {\n",
       "        vertical-align: middle;\n",
       "    }\n",
       "\n",
       "    .dataframe tbody tr th {\n",
       "        vertical-align: top;\n",
       "    }\n",
       "\n",
       "    .dataframe thead th {\n",
       "        text-align: right;\n",
       "    }\n",
       "</style>\n",
       "<table border=\"1\" class=\"dataframe\">\n",
       "  <thead>\n",
       "    <tr style=\"text-align: right;\">\n",
       "      <th>Actual</th>\n",
       "      <th>0.0</th>\n",
       "      <th>1.0</th>\n",
       "    </tr>\n",
       "    <tr>\n",
       "      <th>Predicted</th>\n",
       "      <th></th>\n",
       "      <th></th>\n",
       "    </tr>\n",
       "  </thead>\n",
       "  <tbody>\n",
       "    <tr>\n",
       "      <th>0.0</th>\n",
       "      <td>17298</td>\n",
       "      <td>1475</td>\n",
       "    </tr>\n",
       "    <tr>\n",
       "      <th>1.0</th>\n",
       "      <td>8379</td>\n",
       "      <td>741</td>\n",
       "    </tr>\n",
       "  </tbody>\n",
       "</table>\n",
       "</div>"
      ],
      "text/plain": [
       "Actual       0.0   1.0\n",
       "Predicted             \n",
       "0.0        17298  1475\n",
       "1.0         8379   741"
      ]
     },
     "execution_count": 70,
     "metadata": {},
     "output_type": "execute_result"
    }
   ],
   "source": [
    "time1 = time.time()\n",
    "\n",
    "model = grid.best_estimator_\n",
    "model.fit(X_train, Y_train)\n",
    "\n",
    "# Prédiction sur le jeu de test\n",
    "Y_test_pred = model.predict(X_test)\n",
    "\n",
    "time2 = np.round(time.time() - time1,0)\n",
    "\n",
    "# Calcul AUC\n",
    "y_pred_proba = model.predict_proba(X_test)[:, 1]\n",
    "auc = roc_auc_score(Y_test, y_pred_proba)\n",
    "\n",
    "generate_crosstab()"
   ]
  },
  {
   "cell_type": "code",
   "execution_count": 71,
   "id": "5ee43f9b",
   "metadata": {
    "scrolled": false
   },
   "outputs": [
    {
     "data": {
      "image/png": "[encoded data removed]",
      "text/plain": [
       "<Figure size 600x400 with 1 Axes>"
      ]
     },
     "metadata": {},
     "output_type": "display_data"
    }
   ],
   "source": [
    "generate_auc_roc_curve(model, X_test)"
   ]
  },
  {
   "cell_type": "code",
   "execution_count": 72,
   "id": "ca103fb9",
   "metadata": {},
   "outputs": [
    {
     "data": {
      "text/html": [
       "<div>\n",
       "<style scoped>\n",
       "    .dataframe tbody tr th:only-of-type {\n",
       "        vertical-align: middle;\n",
       "    }\n",
       "\n",
       "    .dataframe tbody tr th {\n",
       "        vertical-align: top;\n",
       "    }\n",
       "\n",
       "    .dataframe thead th {\n",
       "        text-align: right;\n",
       "    }\n",
       "</style>\n",
       "<table border=\"1\" class=\"dataframe\">\n",
       "  <thead>\n",
       "    <tr style=\"text-align: right;\">\n",
       "      <th></th>\n",
       "      <th>Balance_method</th>\n",
       "      <th>AUC</th>\n",
       "      <th>AUC_test</th>\n",
       "      <th>Time</th>\n",
       "    </tr>\n",
       "  </thead>\n",
       "  <tbody>\n",
       "    <tr>\n",
       "      <th>DummyClassifier</th>\n",
       "      <td>None</td>\n",
       "      <td>0.500076</td>\n",
       "      <td>0.500229</td>\n",
       "      <td>0.0</td>\n",
       "    </tr>\n",
       "    <tr>\n",
       "      <th>LogisticRegression</th>\n",
       "      <td>None</td>\n",
       "      <td>0.550622</td>\n",
       "      <td>0.550346</td>\n",
       "      <td>22.0</td>\n",
       "    </tr>\n",
       "    <tr>\n",
       "      <th>LogisticRegression</th>\n",
       "      <td>Undersampling</td>\n",
       "      <td>0.581259</td>\n",
       "      <td>0.587700</td>\n",
       "      <td>3.0</td>\n",
       "    </tr>\n",
       "    <tr>\n",
       "      <th>LogisticRegression</th>\n",
       "      <td>Oversampling</td>\n",
       "      <td>0.587605</td>\n",
       "      <td>0.602902</td>\n",
       "      <td>56.0</td>\n",
       "    </tr>\n",
       "    <tr>\n",
       "      <th>LogisticRegression</th>\n",
       "      <td>Class_weight=balanced</td>\n",
       "      <td>0.594089</td>\n",
       "      <td>0.589356</td>\n",
       "      <td>13.0</td>\n",
       "    </tr>\n",
       "    <tr>\n",
       "      <th>RandomForest</th>\n",
       "      <td>None</td>\n",
       "      <td>0.733212</td>\n",
       "      <td>0.738083</td>\n",
       "      <td>131.0</td>\n",
       "    </tr>\n",
       "    <tr>\n",
       "      <th>RandomForest</th>\n",
       "      <td>Undersampling</td>\n",
       "      <td>0.730992</td>\n",
       "      <td>0.733579</td>\n",
       "      <td>20.0</td>\n",
       "    </tr>\n",
       "    <tr>\n",
       "      <th>RandomForest</th>\n",
       "      <td>Oversampling</td>\n",
       "      <td>0.667845</td>\n",
       "      <td>0.662825</td>\n",
       "      <td>365.0</td>\n",
       "    </tr>\n",
       "    <tr>\n",
       "      <th>RandomForest</th>\n",
       "      <td>Class_weight=balanced</td>\n",
       "      <td>0.731832</td>\n",
       "      <td>0.734369</td>\n",
       "      <td>116.0</td>\n",
       "    </tr>\n",
       "    <tr>\n",
       "      <th>XGBoost</th>\n",
       "      <td>None</td>\n",
       "      <td>0.775080</td>\n",
       "      <td>0.773103</td>\n",
       "      <td>125.0</td>\n",
       "    </tr>\n",
       "    <tr>\n",
       "      <th>XGBoost</th>\n",
       "      <td>Undersampling</td>\n",
       "      <td>0.769117</td>\n",
       "      <td>0.768238</td>\n",
       "      <td>24.0</td>\n",
       "    </tr>\n",
       "    <tr>\n",
       "      <th>XGBoost</th>\n",
       "      <td>Oversampling</td>\n",
       "      <td>0.763410</td>\n",
       "      <td>0.763077</td>\n",
       "      <td>197.0</td>\n",
       "    </tr>\n",
       "    <tr>\n",
       "      <th>XGBoost</th>\n",
       "      <td>Class_weight=balanced</td>\n",
       "      <td>0.772683</td>\n",
       "      <td>0.772244</td>\n",
       "      <td>70.0</td>\n",
       "    </tr>\n",
       "    <tr>\n",
       "      <th>LGBMC</th>\n",
       "      <td>None</td>\n",
       "      <td>0.779509</td>\n",
       "      <td>0.777898</td>\n",
       "      <td>20.0</td>\n",
       "    </tr>\n",
       "    <tr>\n",
       "      <th>LGBMC</th>\n",
       "      <td>Undersampling</td>\n",
       "      <td>0.774009</td>\n",
       "      <td>0.772872</td>\n",
       "      <td>5.0</td>\n",
       "    </tr>\n",
       "  </tbody>\n",
       "</table>\n",
       "</div>"
      ],
      "text/plain": [
       "                           Balance_method       AUC  AUC_test   Time\n",
       "DummyClassifier                      None  0.500076  0.500229    0.0\n",
       "LogisticRegression                   None  0.550622  0.550346   22.0\n",
       "LogisticRegression          Undersampling  0.581259  0.587700    3.0\n",
       "LogisticRegression           Oversampling  0.587605  0.602902   56.0\n",
       "LogisticRegression  Class_weight=balanced  0.594089  0.589356   13.0\n",
       "RandomForest                         None  0.733212  0.738083  131.0\n",
       "RandomForest                Undersampling  0.730992  0.733579   20.0\n",
       "RandomForest                 Oversampling  0.667845  0.662825  365.0\n",
       "RandomForest        Class_weight=balanced  0.731832  0.734369  116.0\n",
       "XGBoost                              None  0.775080  0.773103  125.0\n",
       "XGBoost                     Undersampling  0.769117  0.768238   24.0\n",
       "XGBoost                      Oversampling  0.763410  0.763077  197.0\n",
       "XGBoost             Class_weight=balanced  0.772683  0.772244   70.0\n",
       "LGBMC                                None  0.779509  0.777898   20.0\n",
       "LGBMC                       Undersampling  0.774009  0.772872    5.0"
      ]
     },
     "execution_count": 72,
     "metadata": {},
     "output_type": "execute_result"
    }
   ],
   "source": [
    "index += ['LGBMC']\n",
    "scores['Balance_method'].append('Undersampling')\n",
    "\n",
    "scores['AUC'].append(grid.best_score_)\n",
    "scores['AUC_test'].append(auc.mean()) \n",
    "scores['Time'].append(time2) \n",
    "\n",
    "df_scores = pd.DataFrame(scores, index=index)\n",
    "df_scores"
   ]
  },
  {
   "cell_type": "markdown",
   "id": "e309a012",
   "metadata": {},
   "source": [
    "#### 3° LGBMC - Oversampling"
   ]
  },
  {
   "cell_type": "code",
   "execution_count": 73,
   "id": "83caf762",
   "metadata": {},
   "outputs": [
    {
     "name": "stdout",
     "output_type": "stream",
     "text": [
      "meilleur score :  0.7744241444684201\n",
      "meilleur paramètre :  {'classifier__max_depth': 3, 'classifier__n_estimators': 500}\n"
     ]
    }
   ],
   "source": [
    "model = Pipeline(steps = [['smote', SMOTE(random_state=11)], ['classifier', LGBMClassifier()]])\n",
    "\n",
    "# réutilisation des meilleurs paramètres obtenus avec les 2 modélisations XGBoost précédentes\n",
    "param_grid = { 'classifier__n_estimators' : [500], 'classifier__max_depth' : [3] }   \n",
    "grid = GS(estimator = model, param_grid=param_grid, scoring='roc_auc', cv = 5, n_jobs=-1)\n",
    "\n",
    "# Entraînement\n",
    "grid.fit(X_train, Y_train)\n",
    "print('meilleur score : ' , grid.best_score_)\n",
    "print('meilleur paramètre : ' , grid.best_params_)"
   ]
  },
  {
   "cell_type": "code",
   "execution_count": 74,
   "id": "14c2d59b",
   "metadata": {},
   "outputs": [
    {
     "data": {
      "text/html": [
       "<div>\n",
       "<style scoped>\n",
       "    .dataframe tbody tr th:only-of-type {\n",
       "        vertical-align: middle;\n",
       "    }\n",
       "\n",
       "    .dataframe tbody tr th {\n",
       "        vertical-align: top;\n",
       "    }\n",
       "\n",
       "    .dataframe thead th {\n",
       "        text-align: right;\n",
       "    }\n",
       "</style>\n",
       "<table border=\"1\" class=\"dataframe\">\n",
       "  <thead>\n",
       "    <tr style=\"text-align: right;\">\n",
       "      <th>Actual</th>\n",
       "      <th>0.0</th>\n",
       "      <th>1.0</th>\n",
       "    </tr>\n",
       "    <tr>\n",
       "      <th>Predicted</th>\n",
       "      <th></th>\n",
       "      <th></th>\n",
       "    </tr>\n",
       "  </thead>\n",
       "  <tbody>\n",
       "    <tr>\n",
       "      <th>0.0</th>\n",
       "      <td>25537</td>\n",
       "      <td>2198</td>\n",
       "    </tr>\n",
       "    <tr>\n",
       "      <th>1.0</th>\n",
       "      <td>140</td>\n",
       "      <td>18</td>\n",
       "    </tr>\n",
       "  </tbody>\n",
       "</table>\n",
       "</div>"
      ],
      "text/plain": [
       "Actual       0.0   1.0\n",
       "Predicted             \n",
       "0.0        25537  2198\n",
       "1.0          140    18"
      ]
     },
     "execution_count": 74,
     "metadata": {},
     "output_type": "execute_result"
    }
   ],
   "source": [
    "time1 = time.time()\n",
    "\n",
    "model = grid.best_estimator_\n",
    "model.fit(X_train, Y_train)\n",
    "\n",
    "# Prédiction sur le jeu de test\n",
    "Y_test_pred = model.predict(X_test)\n",
    "\n",
    "time2 = np.round(time.time() - time1,0)\n",
    "\n",
    "# Calcul AUC\n",
    "y_pred_proba = model.predict_proba(X_test)[:, 1]\n",
    "auc = roc_auc_score(Y_test, y_pred_proba)\n",
    "\n",
    "generate_crosstab()"
   ]
  },
  {
   "cell_type": "code",
   "execution_count": 75,
   "id": "565f0308",
   "metadata": {
    "scrolled": false
   },
   "outputs": [
    {
     "data": {
      "image/png": "[encoded data removed]",
      "text/plain": [
       "<Figure size 600x400 with 1 Axes>"
      ]
     },
     "metadata": {},
     "output_type": "display_data"
    }
   ],
   "source": [
    "generate_auc_roc_curve(model, X_test)"
   ]
  },
  {
   "cell_type": "code",
   "execution_count": 76,
   "id": "8ce52b0a",
   "metadata": {},
   "outputs": [
    {
     "data": {
      "text/html": [
       "<div>\n",
       "<style scoped>\n",
       "    .dataframe tbody tr th:only-of-type {\n",
       "        vertical-align: middle;\n",
       "    }\n",
       "\n",
       "    .dataframe tbody tr th {\n",
       "        vertical-align: top;\n",
       "    }\n",
       "\n",
       "    .dataframe thead th {\n",
       "        text-align: right;\n",
       "    }\n",
       "</style>\n",
       "<table border=\"1\" class=\"dataframe\">\n",
       "  <thead>\n",
       "    <tr style=\"text-align: right;\">\n",
       "      <th></th>\n",
       "      <th>Balance_method</th>\n",
       "      <th>AUC</th>\n",
       "      <th>AUC_test</th>\n",
       "      <th>Time</th>\n",
       "    </tr>\n",
       "  </thead>\n",
       "  <tbody>\n",
       "    <tr>\n",
       "      <th>DummyClassifier</th>\n",
       "      <td>None</td>\n",
       "      <td>0.500076</td>\n",
       "      <td>0.500229</td>\n",
       "      <td>0.0</td>\n",
       "    </tr>\n",
       "    <tr>\n",
       "      <th>LogisticRegression</th>\n",
       "      <td>None</td>\n",
       "      <td>0.550622</td>\n",
       "      <td>0.550346</td>\n",
       "      <td>22.0</td>\n",
       "    </tr>\n",
       "    <tr>\n",
       "      <th>LogisticRegression</th>\n",
       "      <td>Undersampling</td>\n",
       "      <td>0.581259</td>\n",
       "      <td>0.587700</td>\n",
       "      <td>3.0</td>\n",
       "    </tr>\n",
       "    <tr>\n",
       "      <th>LogisticRegression</th>\n",
       "      <td>Oversampling</td>\n",
       "      <td>0.587605</td>\n",
       "      <td>0.602902</td>\n",
       "      <td>56.0</td>\n",
       "    </tr>\n",
       "    <tr>\n",
       "      <th>LogisticRegression</th>\n",
       "      <td>Class_weight=balanced</td>\n",
       "      <td>0.594089</td>\n",
       "      <td>0.589356</td>\n",
       "      <td>13.0</td>\n",
       "    </tr>\n",
       "    <tr>\n",
       "      <th>RandomForest</th>\n",
       "      <td>None</td>\n",
       "      <td>0.733212</td>\n",
       "      <td>0.738083</td>\n",
       "      <td>131.0</td>\n",
       "    </tr>\n",
       "    <tr>\n",
       "      <th>RandomForest</th>\n",
       "      <td>Undersampling</td>\n",
       "      <td>0.730992</td>\n",
       "      <td>0.733579</td>\n",
       "      <td>20.0</td>\n",
       "    </tr>\n",
       "    <tr>\n",
       "      <th>RandomForest</th>\n",
       "      <td>Oversampling</td>\n",
       "      <td>0.667845</td>\n",
       "      <td>0.662825</td>\n",
       "      <td>365.0</td>\n",
       "    </tr>\n",
       "    <tr>\n",
       "      <th>RandomForest</th>\n",
       "      <td>Class_weight=balanced</td>\n",
       "      <td>0.731832</td>\n",
       "      <td>0.734369</td>\n",
       "      <td>116.0</td>\n",
       "    </tr>\n",
       "    <tr>\n",
       "      <th>XGBoost</th>\n",
       "      <td>None</td>\n",
       "      <td>0.775080</td>\n",
       "      <td>0.773103</td>\n",
       "      <td>125.0</td>\n",
       "    </tr>\n",
       "    <tr>\n",
       "      <th>XGBoost</th>\n",
       "      <td>Undersampling</td>\n",
       "      <td>0.769117</td>\n",
       "      <td>0.768238</td>\n",
       "      <td>24.0</td>\n",
       "    </tr>\n",
       "    <tr>\n",
       "      <th>XGBoost</th>\n",
       "      <td>Oversampling</td>\n",
       "      <td>0.763410</td>\n",
       "      <td>0.763077</td>\n",
       "      <td>197.0</td>\n",
       "    </tr>\n",
       "    <tr>\n",
       "      <th>XGBoost</th>\n",
       "      <td>Class_weight=balanced</td>\n",
       "      <td>0.772683</td>\n",
       "      <td>0.772244</td>\n",
       "      <td>70.0</td>\n",
       "    </tr>\n",
       "    <tr>\n",
       "      <th>LGBMC</th>\n",
       "      <td>None</td>\n",
       "      <td>0.779509</td>\n",
       "      <td>0.777898</td>\n",
       "      <td>20.0</td>\n",
       "    </tr>\n",
       "    <tr>\n",
       "      <th>LGBMC</th>\n",
       "      <td>Undersampling</td>\n",
       "      <td>0.774009</td>\n",
       "      <td>0.772872</td>\n",
       "      <td>5.0</td>\n",
       "    </tr>\n",
       "    <tr>\n",
       "      <th>LGBMC</th>\n",
       "      <td>Oversampling</td>\n",
       "      <td>0.774424</td>\n",
       "      <td>0.772950</td>\n",
       "      <td>56.0</td>\n",
       "    </tr>\n",
       "  </tbody>\n",
       "</table>\n",
       "</div>"
      ],
      "text/plain": [
       "                           Balance_method       AUC  AUC_test   Time\n",
       "DummyClassifier                      None  0.500076  0.500229    0.0\n",
       "LogisticRegression                   None  0.550622  0.550346   22.0\n",
       "LogisticRegression          Undersampling  0.581259  0.587700    3.0\n",
       "LogisticRegression           Oversampling  0.587605  0.602902   56.0\n",
       "LogisticRegression  Class_weight=balanced  0.594089  0.589356   13.0\n",
       "RandomForest                         None  0.733212  0.738083  131.0\n",
       "RandomForest                Undersampling  0.730992  0.733579   20.0\n",
       "RandomForest                 Oversampling  0.667845  0.662825  365.0\n",
       "RandomForest        Class_weight=balanced  0.731832  0.734369  116.0\n",
       "XGBoost                              None  0.775080  0.773103  125.0\n",
       "XGBoost                     Undersampling  0.769117  0.768238   24.0\n",
       "XGBoost                      Oversampling  0.763410  0.763077  197.0\n",
       "XGBoost             Class_weight=balanced  0.772683  0.772244   70.0\n",
       "LGBMC                                None  0.779509  0.777898   20.0\n",
       "LGBMC                       Undersampling  0.774009  0.772872    5.0\n",
       "LGBMC                        Oversampling  0.774424  0.772950   56.0"
      ]
     },
     "execution_count": 76,
     "metadata": {},
     "output_type": "execute_result"
    }
   ],
   "source": [
    "index += ['LGBMC']\n",
    "scores['Balance_method'].append('Oversampling')\n",
    "\n",
    "scores['AUC'].append(grid.best_score_)\n",
    "scores['AUC_test'].append(auc.mean()) \n",
    "scores['Time'].append(time2) \n",
    "\n",
    "df_scores = pd.DataFrame(scores, index=index)\n",
    "df_scores"
   ]
  },
  {
   "cell_type": "markdown",
   "id": "2321c27a",
   "metadata": {},
   "source": [
    "#### 4° LGBMC - Class_weight = Balanced"
   ]
  },
  {
   "cell_type": "code",
   "execution_count": 77,
   "id": "ed30f6c4",
   "metadata": {},
   "outputs": [
    {
     "data": {
      "text/plain": [
       "0.0    197835\n",
       "1.0     17419\n",
       "Name: TARGET, dtype: int64"
      ]
     },
     "execution_count": 77,
     "metadata": {},
     "output_type": "execute_result"
    }
   ],
   "source": [
    "Y_train['TARGET'].value_counts()"
   ]
  },
  {
   "cell_type": "code",
   "execution_count": 78,
   "id": "a1406eb2",
   "metadata": {},
   "outputs": [
    {
     "data": {
      "text/plain": [
       "11.357425799414433"
      ]
     },
     "execution_count": 78,
     "metadata": {},
     "output_type": "execute_result"
    }
   ],
   "source": [
    "# scale_pos_weight= sum(negative instances) / sum(positive instances)\n",
    "\n",
    "spw = 197835/17419\n",
    "spw"
   ]
  },
  {
   "cell_type": "code",
   "execution_count": 79,
   "id": "c175e2e2",
   "metadata": {},
   "outputs": [
    {
     "name": "stdout",
     "output_type": "stream",
     "text": [
      "meilleur score :  0.777665482308602\n",
      "meilleur paramètre :  {'max_depth': 3, 'n_estimators': 500}\n"
     ]
    }
   ],
   "source": [
    "# réutilisation des meilleurs paramètres obtenus avec les 2 modélisations XGBoost précédentes\n",
    "param_grid = { \"n_estimators\" : [500], \"max_depth\" : [3]}  # maximum depth of the tree                \n",
    "\n",
    "grid = GS(LGBMClassifier(scale_pos_weight = spw),  param_grid, scoring='roc_auc', cv = 5)\n",
    "\n",
    "#grid = GS(XGBClassifier(objective='binary:logistic', eval_metric = 'auc', scale_pos_weight = spw),\\\n",
    "          #param_grid, scoring='roc_auc', cv = 5)\n",
    "\n",
    "# Entraînement\n",
    "grid.fit(X_train, Y_train)\n",
    "print('meilleur score : ' , grid.best_score_)\n",
    "print('meilleur paramètre : ' , grid.best_params_)"
   ]
  },
  {
   "cell_type": "code",
   "execution_count": 80,
   "id": "7d84b07d",
   "metadata": {},
   "outputs": [
    {
     "data": {
      "text/html": [
       "<div>\n",
       "<style scoped>\n",
       "    .dataframe tbody tr th:only-of-type {\n",
       "        vertical-align: middle;\n",
       "    }\n",
       "\n",
       "    .dataframe tbody tr th {\n",
       "        vertical-align: top;\n",
       "    }\n",
       "\n",
       "    .dataframe thead th {\n",
       "        text-align: right;\n",
       "    }\n",
       "</style>\n",
       "<table border=\"1\" class=\"dataframe\">\n",
       "  <thead>\n",
       "    <tr style=\"text-align: right;\">\n",
       "      <th>Actual</th>\n",
       "      <th>0.0</th>\n",
       "      <th>1.0</th>\n",
       "    </tr>\n",
       "    <tr>\n",
       "      <th>Predicted</th>\n",
       "      <th></th>\n",
       "      <th></th>\n",
       "    </tr>\n",
       "  </thead>\n",
       "  <tbody>\n",
       "    <tr>\n",
       "      <th>0.0</th>\n",
       "      <td>17897</td>\n",
       "      <td>1523</td>\n",
       "    </tr>\n",
       "    <tr>\n",
       "      <th>1.0</th>\n",
       "      <td>7780</td>\n",
       "      <td>693</td>\n",
       "    </tr>\n",
       "  </tbody>\n",
       "</table>\n",
       "</div>"
      ],
      "text/plain": [
       "Actual       0.0   1.0\n",
       "Predicted             \n",
       "0.0        17897  1523\n",
       "1.0         7780   693"
      ]
     },
     "execution_count": 80,
     "metadata": {},
     "output_type": "execute_result"
    }
   ],
   "source": [
    "time1 = time.time()\n",
    "\n",
    "model = grid.best_estimator_\n",
    "model.fit(X_train, Y_train)\n",
    "\n",
    "# Prédiction sur le jeu de test\n",
    "Y_test_pred = model.predict(X_test)\n",
    "\n",
    "time2 = np.round(time.time() - time1,0)\n",
    "\n",
    "# Calcul AUC\n",
    "y_pred_proba = model.predict_proba(X_test)[:, 1]\n",
    "auc = roc_auc_score(Y_test, y_pred_proba)\n",
    "\n",
    "generate_crosstab()"
   ]
  },
  {
   "cell_type": "code",
   "execution_count": 81,
   "id": "c803213f",
   "metadata": {
    "scrolled": false
   },
   "outputs": [
    {
     "data": {
      "image/png": "[encoded data removed]",
      "text/plain": [
       "<Figure size 600x400 with 1 Axes>"
      ]
     },
     "metadata": {},
     "output_type": "display_data"
    }
   ],
   "source": [
    "generate_auc_roc_curve(model, X_test)"
   ]
  },
  {
   "cell_type": "code",
   "execution_count": 82,
   "id": "7abdd1ae",
   "metadata": {
    "scrolled": false
   },
   "outputs": [
    {
     "data": {
      "text/html": [
       "<div>\n",
       "<style scoped>\n",
       "    .dataframe tbody tr th:only-of-type {\n",
       "        vertical-align: middle;\n",
       "    }\n",
       "\n",
       "    .dataframe tbody tr th {\n",
       "        vertical-align: top;\n",
       "    }\n",
       "\n",
       "    .dataframe thead th {\n",
       "        text-align: right;\n",
       "    }\n",
       "</style>\n",
       "<table border=\"1\" class=\"dataframe\">\n",
       "  <thead>\n",
       "    <tr style=\"text-align: right;\">\n",
       "      <th></th>\n",
       "      <th>Balance_method</th>\n",
       "      <th>AUC</th>\n",
       "      <th>AUC_test</th>\n",
       "      <th>Time</th>\n",
       "    </tr>\n",
       "  </thead>\n",
       "  <tbody>\n",
       "    <tr>\n",
       "      <th>DummyClassifier</th>\n",
       "      <td>None</td>\n",
       "      <td>0.500076</td>\n",
       "      <td>0.500229</td>\n",
       "      <td>0.0</td>\n",
       "    </tr>\n",
       "    <tr>\n",
       "      <th>LogisticRegression</th>\n",
       "      <td>None</td>\n",
       "      <td>0.550622</td>\n",
       "      <td>0.550346</td>\n",
       "      <td>22.0</td>\n",
       "    </tr>\n",
       "    <tr>\n",
       "      <th>LogisticRegression</th>\n",
       "      <td>Undersampling</td>\n",
       "      <td>0.581259</td>\n",
       "      <td>0.587700</td>\n",
       "      <td>3.0</td>\n",
       "    </tr>\n",
       "    <tr>\n",
       "      <th>LogisticRegression</th>\n",
       "      <td>Oversampling</td>\n",
       "      <td>0.587605</td>\n",
       "      <td>0.602902</td>\n",
       "      <td>56.0</td>\n",
       "    </tr>\n",
       "    <tr>\n",
       "      <th>LogisticRegression</th>\n",
       "      <td>Class_weight=balanced</td>\n",
       "      <td>0.594089</td>\n",
       "      <td>0.589356</td>\n",
       "      <td>13.0</td>\n",
       "    </tr>\n",
       "    <tr>\n",
       "      <th>RandomForest</th>\n",
       "      <td>None</td>\n",
       "      <td>0.733212</td>\n",
       "      <td>0.738083</td>\n",
       "      <td>131.0</td>\n",
       "    </tr>\n",
       "    <tr>\n",
       "      <th>RandomForest</th>\n",
       "      <td>Undersampling</td>\n",
       "      <td>0.730992</td>\n",
       "      <td>0.733579</td>\n",
       "      <td>20.0</td>\n",
       "    </tr>\n",
       "    <tr>\n",
       "      <th>RandomForest</th>\n",
       "      <td>Oversampling</td>\n",
       "      <td>0.667845</td>\n",
       "      <td>0.662825</td>\n",
       "      <td>365.0</td>\n",
       "    </tr>\n",
       "    <tr>\n",
       "      <th>RandomForest</th>\n",
       "      <td>Class_weight=balanced</td>\n",
       "      <td>0.731832</td>\n",
       "      <td>0.734369</td>\n",
       "      <td>116.0</td>\n",
       "    </tr>\n",
       "    <tr>\n",
       "      <th>XGBoost</th>\n",
       "      <td>None</td>\n",
       "      <td>0.775080</td>\n",
       "      <td>0.773103</td>\n",
       "      <td>125.0</td>\n",
       "    </tr>\n",
       "    <tr>\n",
       "      <th>XGBoost</th>\n",
       "      <td>Undersampling</td>\n",
       "      <td>0.769117</td>\n",
       "      <td>0.768238</td>\n",
       "      <td>24.0</td>\n",
       "    </tr>\n",
       "    <tr>\n",
       "      <th>XGBoost</th>\n",
       "      <td>Oversampling</td>\n",
       "      <td>0.763410</td>\n",
       "      <td>0.763077</td>\n",
       "      <td>197.0</td>\n",
       "    </tr>\n",
       "    <tr>\n",
       "      <th>XGBoost</th>\n",
       "      <td>Class_weight=balanced</td>\n",
       "      <td>0.772683</td>\n",
       "      <td>0.772244</td>\n",
       "      <td>70.0</td>\n",
       "    </tr>\n",
       "    <tr>\n",
       "      <th>LGBMC</th>\n",
       "      <td>None</td>\n",
       "      <td>0.779509</td>\n",
       "      <td>0.777898</td>\n",
       "      <td>20.0</td>\n",
       "    </tr>\n",
       "    <tr>\n",
       "      <th>LGBMC</th>\n",
       "      <td>Undersampling</td>\n",
       "      <td>0.774009</td>\n",
       "      <td>0.772872</td>\n",
       "      <td>5.0</td>\n",
       "    </tr>\n",
       "    <tr>\n",
       "      <th>LGBMC</th>\n",
       "      <td>Oversampling</td>\n",
       "      <td>0.774424</td>\n",
       "      <td>0.772950</td>\n",
       "      <td>56.0</td>\n",
       "    </tr>\n",
       "    <tr>\n",
       "      <th>LGBMC</th>\n",
       "      <td>Class_weight=balanced</td>\n",
       "      <td>0.777665</td>\n",
       "      <td>0.777127</td>\n",
       "      <td>25.0</td>\n",
       "    </tr>\n",
       "  </tbody>\n",
       "</table>\n",
       "</div>"
      ],
      "text/plain": [
       "                           Balance_method       AUC  AUC_test   Time\n",
       "DummyClassifier                      None  0.500076  0.500229    0.0\n",
       "LogisticRegression                   None  0.550622  0.550346   22.0\n",
       "LogisticRegression          Undersampling  0.581259  0.587700    3.0\n",
       "LogisticRegression           Oversampling  0.587605  0.602902   56.0\n",
       "LogisticRegression  Class_weight=balanced  0.594089  0.589356   13.0\n",
       "RandomForest                         None  0.733212  0.738083  131.0\n",
       "RandomForest                Undersampling  0.730992  0.733579   20.0\n",
       "RandomForest                 Oversampling  0.667845  0.662825  365.0\n",
       "RandomForest        Class_weight=balanced  0.731832  0.734369  116.0\n",
       "XGBoost                              None  0.775080  0.773103  125.0\n",
       "XGBoost                     Undersampling  0.769117  0.768238   24.0\n",
       "XGBoost                      Oversampling  0.763410  0.763077  197.0\n",
       "XGBoost             Class_weight=balanced  0.772683  0.772244   70.0\n",
       "LGBMC                                None  0.779509  0.777898   20.0\n",
       "LGBMC                       Undersampling  0.774009  0.772872    5.0\n",
       "LGBMC                        Oversampling  0.774424  0.772950   56.0\n",
       "LGBMC               Class_weight=balanced  0.777665  0.777127   25.0"
      ]
     },
     "execution_count": 82,
     "metadata": {},
     "output_type": "execute_result"
    }
   ],
   "source": [
    "index += ['LGBMC']\n",
    "scores['Balance_method'].append('Class_weight=balanced')\n",
    "\n",
    "scores['AUC'].append(grid.best_score_)\n",
    "scores['AUC_test'].append(auc.mean()) \n",
    "scores['Time'].append(time2) \n",
    "\n",
    "df_scores = pd.DataFrame(scores, index=index)\n",
    "df_scores"
   ]
  }
 ],
 "metadata": {
  "kernelspec": {
   "display_name": "Python 3 (ipykernel)",
   "language": "python",
   "name": "python3"
  },
  "language_info": {
   "codemirror_mode": {
    "name": "ipython",
    "version": 3
   },
   "file_extension": ".py",
   "mimetype": "text/x-python",
   "name": "python",
   "nbconvert_exporter": "python",
   "pygments_lexer": "ipython3",
   "version": "3.9.15"
  }
 },
 "nbformat": 4,
 "nbformat_minor": 5
}
